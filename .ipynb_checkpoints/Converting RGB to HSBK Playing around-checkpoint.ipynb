{
 "cells": [
  {
   "cell_type": "markdown",
   "metadata": {},
   "source": [
    "# Purpose\n",
    "\n",
    "The purpose of this notebook is to experiment with converting pixel colors represented in the RGB (RedGreenBlue) like in the matplotlib numpy array to HSBK (hue, saturation, brightness, kelvin) values which are used as input for the LIFX Tiles\n",
    "\n",
    "Goal is to take images directly from the Pillow library, convert them to the proper pixel resolution of what's available in the specific LIFX Tiles setup, and then automatically display them on the Tiles"
   ]
  },
  {
   "cell_type": "code",
   "execution_count": 1,
   "metadata": {},
   "outputs": [],
   "source": [
    "#imports\n",
    "from lifxlan.utils import RGBtoHSBK"
   ]
  },
  {
   "cell_type": "code",
   "execution_count": 2,
   "metadata": {},
   "outputs": [],
   "source": [
    "rgb_pixel = [170, 187, 203]"
   ]
  },
  {
   "cell_type": "code",
   "execution_count": 3,
   "metadata": {},
   "outputs": [
    {
     "name": "stdout",
     "output_type": "stream",
     "text": [
      "Help on function RGBtoHSBK in module lifxlan.utils:\n",
      "\n",
      "RGBtoHSBK(RGB, temperature=3500)\n",
      "\n"
     ]
    }
   ],
   "source": [
    "help(RGBtoHSBK)"
   ]
  },
  {
   "cell_type": "code",
   "execution_count": 4,
   "metadata": {},
   "outputs": [
    {
     "data": {
      "text/plain": [
       "(38063, 10653, 52171, 3500)"
      ]
     },
     "execution_count": 4,
     "metadata": {},
     "output_type": "execute_result"
    }
   ],
   "source": [
    "RGBtoHSBK(rgb_pixel)"
   ]
  },
  {
   "cell_type": "code",
   "execution_count": 2,
   "metadata": {},
   "outputs": [
    {
     "name": "stdout",
     "output_type": "stream",
     "text": [
      "[[1], [2, 3], [4, 5, 6]]\n"
     ]
    }
   ],
   "source": [
    "#convert from 64 element list to 8x8 matrix for an individual tile.\n",
    "\n",
    "from itertools import islice \n",
    "  \n",
    "def convert_64to8(lst, var_lst): \n",
    "    it = iter(lst) \n",
    "    return [list(islice(it, i)) for i in var_lst] \n",
    "\n",
    "    \n",
    "# Driver code \n",
    "lst = [1, 2, 3, 4, 5, 6] \n",
    "var_lst = [1, 2, 3] \n",
    "print(convert(lst, var_lst)) "
   ]
  },
  {
   "cell_type": "code",
   "execution_count": null,
   "metadata": {},
   "outputs": [],
   "source": [
    "def convert_8to_64(matrix):\n"
   ]
  },
  {
   "cell_type": "code",
   "execution_count": 3,
   "metadata": {},
   "outputs": [],
   "source": [
    "youtube_original_matrix = [(42, 65535, 39868, 4900),\n",
    " (42, 65535, 39868, 4900),\n",
    " (42, 65535, 39868, 4900),\n",
    " (42, 65535, 39868, 4900),\n",
    " (42, 65535, 39868, 4900),\n",
    " (42, 65535, 39868, 4900),\n",
    " (42, 65535, 39868, 4900),\n",
    " (42, 65535, 39868, 4900),\n",
    " (42, 65535, 39868, 4900),\n",
    " (0, 0, 0, 1500),\n",
    " (0, 0, 0, 1500),\n",
    " (0, 0, 0, 1500),\n",
    " (0, 0, 0, 1500),\n",
    " (0, 0, 0, 1500),\n",
    " (0, 0, 0, 1500),\n",
    " (42, 65535, 39868, 4900),\n",
    " (42, 65535, 39868, 4900),\n",
    " (0, 0, 0, 1500),\n",
    " (0, 0, 0, 1500),\n",
    " (42, 0, 59380, 4900),\n",
    " (0, 0, 0, 1500),\n",
    " (0, 0, 0, 1500),\n",
    " (0, 0, 0, 1500),\n",
    " (42, 65535, 39868, 4900),\n",
    " (42, 65535, 39868, 4900),\n",
    " (0, 0, 0, 1500),\n",
    " (0, 0, 0, 1500),\n",
    " (0, 0, 0, 1500),\n",
    " (42, 0, 59380, 4900),\n",
    " (0, 0, 0, 1500),\n",
    " (0, 0, 0, 1500),\n",
    " (42, 65535, 39868, 4900),\n",
    " (42, 65535, 39868, 4900),\n",
    " (0, 0, 0, 1500),\n",
    " (0, 0, 0, 1500),\n",
    " (42, 0, 59380, 4900),\n",
    " (0, 0, 0, 1500),\n",
    " (0, 0, 0, 1500),\n",
    " (0, 0, 0, 1500),\n",
    " (42, 65535, 39868, 4900),\n",
    " (42, 65535, 39868, 4900),\n",
    " (0, 0, 0, 1500),\n",
    " (0, 0, 0, 1500),\n",
    " (0, 0, 0, 1500),\n",
    " (0, 0, 0, 1500),\n",
    " (0, 0, 0, 1500),\n",
    " (0, 0, 0, 1500),\n",
    " (42, 65535, 39868, 4900),\n",
    " (42, 65535, 39868, 4900),\n",
    " (42, 65535, 39868, 4900),\n",
    " (42, 65535, 39868, 4900),\n",
    " (42, 65535, 39868, 4900),\n",
    " (42, 65535, 39868, 4900),\n",
    " (42, 65535, 39868, 4900),\n",
    " (42, 65535, 39868, 4900),\n",
    " (42, 65535, 39868, 4900),\n",
    " (0, 0, 0, 1500),\n",
    " (0, 0, 0, 1500),\n",
    " (0, 0, 0, 1500),\n",
    " (0, 0, 0, 1500),\n",
    " (0, 0, 0, 1500),\n",
    " (0, 0, 0, 1500),\n",
    " (0, 0, 0, 1500),\n",
    " (0, 0, 0, 1500)]"
   ]
  },
  {
   "cell_type": "code",
   "execution_count": 6,
   "metadata": {},
   "outputs": [],
   "source": [
    "x = convert(youtube_original_matrix, [8,8])"
   ]
  },
  {
   "cell_type": "code",
   "execution_count": 10,
   "metadata": {},
   "outputs": [
    {
     "data": {
      "text/plain": [
       "8"
      ]
     },
     "execution_count": 10,
     "metadata": {},
     "output_type": "execute_result"
    }
   ],
   "source": [
    "len(x[0])"
   ]
  },
  {
   "cell_type": "code",
   "execution_count": 11,
   "metadata": {},
   "outputs": [
    {
     "data": {
      "text/plain": [
       "8"
      ]
     },
     "execution_count": 11,
     "metadata": {},
     "output_type": "execute_result"
    }
   ],
   "source": [
    "len(x[1])"
   ]
  },
  {
   "cell_type": "code",
   "execution_count": 4,
   "metadata": {},
   "outputs": [
    {
     "name": "stdout",
     "output_type": "stream",
     "text": [
      "0\n"
     ]
    }
   ],
   "source": [
    "#import LIFxLAN object and get all LIFX lights and assign to lifx object\n",
    "from lifxlan import LifxLAN\n",
    "lifx = LifxLAN(30)\n",
    "\n",
    "tilechain_lights = lifx.get_tilechain_lights()\n",
    "print (len(tilechain_lights))\n",
    "len(tilechain_lights)\n",
    "#Print out the list of LIFX Tile lights to find the one we're looking for\n",
    "#TODO Should write a helper function that finds the right light and automatically assigns it to a variable\n",
    "canvas = ['T1', 'T2', 'T3', 'T4']\n",
    "for tile in tilechain_lights:\n",
    "    if tile.get_label()  ==  'T1':\n",
    "    #if tile.get_label() == 'TEST':\n",
    "        T1 = tile\n",
    "    if tile.get_label()  =='T2':\n",
    "    #if tile.get_label() == 'TEST':\n",
    "        T2 = tile\n",
    "    if tile.get_label()  == 'T3':\n",
    "    #if tile.get_label() == 'TEST':\n",
    "        T3 = tile\n",
    "    if tile.get_label()  == 'T4':\n",
    "    #if tile.get_label() == 'TEST':\n",
    "        T4 = tile\n",
    "    if tile.get_label()  == 'LR1':\n",
    "    #if tile.get_label() == 'TEST':\n",
    "        LR = tile"
   ]
  },
  {
   "cell_type": "code",
   "execution_count": null,
   "metadata": {},
   "outputs": [],
   "source": [
    "print(T1)\n",
    "print(T2)\n",
    "print(T3)\n",
    "print(T4)"
   ]
  }
 ],
 "metadata": {
  "kernelspec": {
   "display_name": "Python 3",
   "language": "python",
   "name": "python3"
  },
  "language_info": {
   "codemirror_mode": {
    "name": "ipython",
    "version": 3
   },
   "file_extension": ".py",
   "mimetype": "text/x-python",
   "name": "python",
   "nbconvert_exporter": "python",
   "pygments_lexer": "ipython3",
   "version": "3.7.3"
  }
 },
 "nbformat": 4,
 "nbformat_minor": 4
}
