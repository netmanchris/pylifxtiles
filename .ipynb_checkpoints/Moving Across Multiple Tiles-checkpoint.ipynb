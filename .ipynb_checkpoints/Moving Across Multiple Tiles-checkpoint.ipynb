{
 "cells": [
  {
   "cell_type": "markdown",
   "metadata": {},
   "source": [
    "# Project Description\n",
    "\n",
    "The goal of this project is to move images across muliple LIFX tiles in a single chain. \n",
    "\n"
   ]
  },
  {
   "cell_type": "code",
   "execution_count": null,
   "metadata": {},
   "outputs": [],
   "source": [
    "from lifxlan import *\n",
    "from random import randint, betavariate\n",
    "from time import sleep\n",
    "from secrets import youtube_api_key\n",
    "from pylifxtiles import actions\n",
    "\n",
    "channel_name = 'UCQHfJyIROQhDFUOJKVBiLog'\n",
    "\n",
    "\n",
    "def main():\n",
    "    lan = LifxLAN()\n",
    "    tilechain_lights = lan.get_tilechain_lights()\n",
    "    if len(tilechain_lights) != 0:\n",
    "        for tile in tilechain_lights:\n",
    "            if tile.get_label()  ==  'T1':\n",
    "            #if tile.get_label() == 'TEST':\n",
    "                T1 = tile\n",
    "            if tile.get_label()  =='T2':\n",
    "            #if tile.get_label() == 'TEST':\n",
    "                T2 = tile\n",
    "            if tile.get_label()  == 'T3':\n",
    "            #if tile.get_label() == 'TEST':\n",
    "                T3 = tile\n",
    "            if tile.get_label()  == 'T4':\n",
    "            #if tile.get_label() == 'TEST':\n",
    "                T4 = tile\n",
    "            if tile.get_label()  == 'LR1':\n",
    "            #if tile.get_label() == 'TEST':\n",
    "                LR = tile"
   ]
  },
  {
   "cell_type": "code",
   "execution_count": 20,
   "metadata": {},
   "outputs": [
    {
     "ename": "NameError",
     "evalue": "name 'LR' is not defined",
     "output_type": "error",
     "traceback": [
      "\u001b[0;31m---------------------------------------------------------------------------\u001b[0m",
      "\u001b[0;31mNameError\u001b[0m                                 Traceback (most recent call last)",
      "\u001b[0;32m<ipython-input-20-5ba204556c18>\u001b[0m in \u001b[0;36m<module>\u001b[0;34m\u001b[0m\n\u001b[1;32m     23\u001b[0m     \u001b[0;31m#if tile.get_label() == 'TEST':\u001b[0m\u001b[0;34m\u001b[0m\u001b[0;34m\u001b[0m\u001b[0;34m\u001b[0m\u001b[0m\n\u001b[1;32m     24\u001b[0m         \u001b[0mLR\u001b[0m \u001b[0;34m=\u001b[0m \u001b[0mtile\u001b[0m\u001b[0;34m\u001b[0m\u001b[0;34m\u001b[0m\u001b[0m\n\u001b[0;32m---> 25\u001b[0;31m \u001b[0mtest_tile\u001b[0m \u001b[0;34m=\u001b[0m \u001b[0mLR\u001b[0m\u001b[0;34m\u001b[0m\u001b[0;34m\u001b[0m\u001b[0m\n\u001b[0m",
      "\u001b[0;31mNameError\u001b[0m: name 'LR' is not defined"
     ]
    }
   ],
   "source": [
    "#import LIFxLAN object and get all LIFX lights and assign to lifx object\n",
    "from lifxlan import LifxLAN\n",
    "lifx = LifxLAN(30)\n",
    "tilechain_lights = lifx.get_tilechain_lights()\n",
    "len(tilechain_lights)\n",
    "#Print out the list of LIFX Tile lights to find the one we're looking for\n",
    "#TODO Should write a helper function that finds the right light and automatically assigns it to a variable\n",
    "canvas = ['T1', 'T2', 'T3', 'T4']\n",
    "for tile in tilechain_lights:\n",
    "    if tile.get_label()  ==  'T1':\n",
    "    #if tile.get_label() == 'TEST':\n",
    "        T1 = tile\n",
    "    if tile.get_label()  =='T2':\n",
    "    #if tile.get_label() == 'TEST':\n",
    "        T2 = tile\n",
    "    if tile.get_label()  == 'T3':\n",
    "    #if tile.get_label() == 'TEST':\n",
    "        T3 = tile\n",
    "    if tile.get_label()  == 'T4':\n",
    "    #if tile.get_label() == 'TEST':\n",
    "        T4 = tile\n",
    "    if tile.get_label()  == 'LR1':\n",
    "    #if tile.get_label() == 'TEST':\n",
    "        LR = tile\n",
    "test_tile = LR\n",
    "\n",
    "from pylifxtiles import objects\n",
    "for i in range(5):\n",
    "    objects.draw_heart(LR,i)\n",
    "    \n",
    "for i in range(5):\n",
    "    objects.draw_heart(LR,i)\n",
    "    \n",
    "    "
   ]
  },
  {
   "cell_type": "code",
   "execution_count": 9,
   "metadata": {},
   "outputs": [
    {
     "ename": "NameError",
     "evalue": "name 'LR' is not defined",
     "output_type": "error",
     "traceback": [
      "\u001b[0;31m---------------------------------------------------------------------------\u001b[0m",
      "\u001b[0;31mNameError\u001b[0m                                 Traceback (most recent call last)",
      "\u001b[0;32m<ipython-input-9-969f9741f8a4>\u001b[0m in \u001b[0;36m<module>\u001b[0;34m\u001b[0m\n\u001b[0;32m----> 1\u001b[0;31m \u001b[0mLR\u001b[0m\u001b[0;34m\u001b[0m\u001b[0;34m\u001b[0m\u001b[0m\n\u001b[0m",
      "\u001b[0;31mNameError\u001b[0m: name 'LR' is not defined"
     ]
    }
   ],
   "source": [
    "LR"
   ]
  },
  {
   "cell_type": "code",
   "execution_count": null,
   "metadata": {},
   "outputs": [],
   "source": []
  }
 ],
 "metadata": {
  "kernelspec": {
   "display_name": "Python 3",
   "language": "python",
   "name": "python3"
  },
  "language_info": {
   "codemirror_mode": {
    "name": "ipython",
    "version": 3
   },
   "file_extension": ".py",
   "mimetype": "text/x-python",
   "name": "python",
   "nbconvert_exporter": "python",
   "pygments_lexer": "ipython3",
   "version": "3.7.3"
  }
 },
 "nbformat": 4,
 "nbformat_minor": 4
}
