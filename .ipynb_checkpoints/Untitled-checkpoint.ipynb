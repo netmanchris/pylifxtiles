{
 "cells": [
  {
   "cell_type": "markdown",
   "metadata": {},
   "source": [
    "# Further investigatio into LIFXLan Tilechain functions\n",
    "\n"
   ]
  },
  {
   "cell_type": "code",
   "execution_count": 1,
   "metadata": {},
   "outputs": [
    {
     "data": {
      "text/plain": [
       "20"
      ]
     },
     "execution_count": 1,
     "metadata": {},
     "output_type": "execute_result"
    }
   ],
   "source": [
    "#import LIFxLAN object and get all LIFX lights and assign to lifx object\n",
    "from lifxlan import LifxLAN\n",
    "lifx = LifxLAN(30)\n",
    "tilechain_lights = lifx.get_tilechain_lights()\n",
    "len(tilechain_lights)"
   ]
  },
  {
   "cell_type": "code",
   "execution_count": 2,
   "metadata": {},
   "outputs": [
    {
     "data": {
      "text/plain": [
       "<lifxlan.tilechain.TileChain at 0x10fbc5898>"
      ]
     },
     "execution_count": 2,
     "metadata": {},
     "output_type": "execute_result"
    }
   ],
   "source": [
    "for tile in tilechain_lights:\n",
    "    if tile.get_label()  == 'LR1':\n",
    "    #if tile.get_label() == 'TEST':\n",
    "        LR = tile\n",
    "LR"
   ]
  },
  {
   "cell_type": "code",
   "execution_count": 3,
   "metadata": {},
   "outputs": [
    {
     "name": "stdout",
     "output_type": "stream",
     "text": [
      "Help on TileChain in module lifxlan.tilechain object:\n",
      "\n",
      "class TileChain(lifxlan.light.Light)\n",
      " |  TileChain(mac_addr, ip_addr, service=1, port=56700, source_id=12158, verbose=False)\n",
      " |  \n",
      " |  Method resolution order:\n",
      " |      TileChain\n",
      " |      lifxlan.light.Light\n",
      " |      lifxlan.device.Device\n",
      " |      builtins.object\n",
      " |  \n",
      " |  Methods defined here:\n",
      " |  \n",
      " |  __init__(self, mac_addr, ip_addr, service=1, port=56700, source_id=12158, verbose=False)\n",
      " |      Initialize self.  See help(type(self)) for accurate signature.\n",
      " |  \n",
      " |  center_axis(self, axis_vals)\n",
      " |  \n",
      " |  get_canvas_dimensions(self, refresh_cache=False)\n",
      " |  \n",
      " |  get_tile_colors(self, start_index, tile_count=1, x=0, y=0, width=8)\n",
      " |  \n",
      " |  get_tile_count(self, refresh_cache=False)\n",
      " |  \n",
      " |  get_tile_info(self, refresh_cache=False)\n",
      " |      # returns information about all tiles\n",
      " |  \n",
      " |  get_tile_map(self, refresh_cache=False)\n",
      " |  \n",
      " |  get_tilechain_colors(self)\n",
      " |  \n",
      " |  get_xy_vals(self)\n",
      " |  \n",
      " |  project_matrix(self, hsvk_matrix, duration=0, rapid=False)\n",
      " |  \n",
      " |  recenter_coordinates(self)\n",
      " |  \n",
      " |  set_tile_colors(self, start_index, colors, duration=0, tile_count=1, x=0, y=0, width=8, rapid=False)\n",
      " |  \n",
      " |  set_tile_coordinates(self, tile_index, x, y)\n",
      " |      # danger zoooooone\n",
      " |  \n",
      " |  set_tilechain_colors(self, tilechain_colors, duration=0, rapid=False)\n",
      " |  \n",
      " |  shift_axis_upper_left(self, axis_vals, is_y=False)\n",
      " |      # all become non-negative -- shifts (0, 0) to the left/top\n",
      " |  \n",
      " |  ----------------------------------------------------------------------\n",
      " |  Methods inherited from lifxlan.light.Light:\n",
      " |  \n",
      " |  __str__(self)\n",
      " |      Return str(self).\n",
      " |  \n",
      " |  get_color(self)\n",
      " |  \n",
      " |  get_infrared(self)\n",
      " |      # Infrared get maximum brightness, infrared_brightness\n",
      " |  \n",
      " |  get_power(self)\n",
      " |      # GetPower - power level\n",
      " |  \n",
      " |  set_brightness(self, brightness, duration=0, rapid=False)\n",
      " |      brightness to set\n",
      " |      duration in ms\n",
      " |  \n",
      " |  set_color(self, color, duration=0, rapid=False)\n",
      " |      # color is [Hue, Saturation, Brightness, Kelvin], duration in ms\n",
      " |  \n",
      " |  set_colortemp(self, kelvin, duration=0, rapid=False)\n",
      " |      kelvin: color temperature to set\n",
      " |      duration in ms\n",
      " |  \n",
      " |  set_hue(self, hue, duration=0, rapid=False)\n",
      " |      hue to set\n",
      " |      duration in ms\n",
      " |  \n",
      " |  set_infrared(self, infrared_brightness, rapid=False)\n",
      " |      # Infrared set maximum brightness, infrared_brightness\n",
      " |  \n",
      " |  set_power(self, power, duration=0, rapid=False)\n",
      " |  \n",
      " |  set_saturation(self, saturation, duration=0, rapid=False)\n",
      " |      saturation to set\n",
      " |      duration in ms\n",
      " |  \n",
      " |  set_waveform(self, is_transient, color, period, cycles, duty_cycle, waveform, rapid=False)\n",
      " |      # color is [Hue, Saturation, Brightness, Kelvin]\n",
      " |  \n",
      " |  ----------------------------------------------------------------------\n",
      " |  Methods inherited from lifxlan.device.Device:\n",
      " |  \n",
      " |  close_socket(self, socket_id)\n",
      " |  \n",
      " |  device_characteristics_str(self, indent)\n",
      " |  \n",
      " |  device_firmware_str(self, indent)\n",
      " |  \n",
      " |  device_product_str(self, indent)\n",
      " |  \n",
      " |  device_radio_str(self, indent)\n",
      " |  \n",
      " |  device_time_str(self, indent)\n",
      " |  \n",
      " |  fire_and_forget(self, msg_type, payload={}, timeout_secs=1, num_repeats=1)\n",
      " |      # Don't wait for Acks or Responses, just send the same message repeatedly as fast as possible\n",
      " |  \n",
      " |  get_downtime(self)\n",
      " |  \n",
      " |  get_group(self)\n",
      " |  \n",
      " |  get_group_label(self)\n",
      " |  \n",
      " |  get_group_tuple(self)\n",
      " |  \n",
      " |  get_group_updated_at(self)\n",
      " |  \n",
      " |  get_host_firmware_build_timestamp(self)\n",
      " |  \n",
      " |  get_host_firmware_tuple(self)\n",
      " |  \n",
      " |  get_host_firmware_version(self)\n",
      " |  \n",
      " |  get_info_tuple(self)\n",
      " |  \n",
      " |  get_ip_addr(self)\n",
      " |  \n",
      " |  get_label(self)\n",
      " |  \n",
      " |  get_location(self)\n",
      " |  \n",
      " |  get_location_label(self)\n",
      " |  \n",
      " |  get_location_tuple(self)\n",
      " |  \n",
      " |  get_location_updated_at(self)\n",
      " |  \n",
      " |  get_mac_addr(self)\n",
      " |  \n",
      " |  get_port(self)\n",
      " |  \n",
      " |  get_product(self)\n",
      " |  \n",
      " |  get_product_features(self)\n",
      " |  \n",
      " |  get_product_name(self)\n",
      " |  \n",
      " |  get_service(self)\n",
      " |  \n",
      " |  get_source_id(self)\n",
      " |  \n",
      " |  get_time(self)\n",
      " |  \n",
      " |  get_uptime(self)\n",
      " |  \n",
      " |  get_vendor(self)\n",
      " |  \n",
      " |  get_version(self)\n",
      " |  \n",
      " |  get_version_tuple(self)\n",
      " |  \n",
      " |  get_wifi_firmware_build_timestamp(self)\n",
      " |  \n",
      " |  get_wifi_firmware_tuple(self)\n",
      " |  \n",
      " |  get_wifi_firmware_version(self)\n",
      " |  \n",
      " |  get_wifi_info_tuple(self)\n",
      " |  \n",
      " |  get_wifi_rx_bytes(self)\n",
      " |  \n",
      " |  get_wifi_signal_mw(self)\n",
      " |  \n",
      " |  get_wifi_tx_bytes(self)\n",
      " |  \n",
      " |  initialize_socket(self, timeout)\n",
      " |  \n",
      " |  is_light(self)\n",
      " |  \n",
      " |  refresh(self)\n",
      " |      # update the device's (relatively) persistent attributes\n",
      " |  \n",
      " |  req_with_ack(self, msg_type, payload, timeout_secs=1, max_attempts=1)\n",
      " |      # Usually used for Set messages\n",
      " |  \n",
      " |  req_with_ack_resp(self, msg_type, response_type, payload, timeout_secs=1, max_attempts=1)\n",
      " |      # Not currently implemented, although the LIFX LAN protocol supports this kind of workflow natively\n",
      " |  \n",
      " |  req_with_resp(self, msg_type, response_type, payload={}, timeout_secs=1, max_attempts=1)\n",
      " |      # Usually used for Get messages, or for state confirmation after Set (hence the optional payload)\n",
      " |  \n",
      " |  set_label(self, label)\n",
      " |  \n",
      " |  supports_chain(self)\n",
      " |  \n",
      " |  supports_color(self)\n",
      " |  \n",
      " |  supports_infrared(self)\n",
      " |  \n",
      " |  supports_multizone(self)\n",
      " |  \n",
      " |  supports_temperature(self)\n",
      " |  \n",
      " |  ----------------------------------------------------------------------\n",
      " |  Data descriptors inherited from lifxlan.device.Device:\n",
      " |  \n",
      " |  __dict__\n",
      " |      dictionary for instance variables (if defined)\n",
      " |  \n",
      " |  __weakref__\n",
      " |      list of weak references to the object (if defined)\n",
      "\n"
     ]
    }
   ],
   "source": [
    "help(LR)"
   ]
  },
  {
   "cell_type": "code",
   "execution_count": 4,
   "metadata": {},
   "outputs": [
    {
     "data": {
      "text/plain": [
       "(36, 48)"
      ]
     },
     "execution_count": 4,
     "metadata": {},
     "output_type": "execute_result"
    }
   ],
   "source": [
    "LR.get_canvas_dimensions()"
   ]
  },
  {
   "cell_type": "code",
   "execution_count": 6,
   "metadata": {},
   "outputs": [
    {
     "data": {
      "text/plain": [
       "5"
      ]
     },
     "execution_count": 6,
     "metadata": {},
     "output_type": "execute_result"
    }
   ],
   "source": [
    "LR.get_tile_count()"
   ]
  },
  {
   "cell_type": "code",
   "execution_count": 10,
   "metadata": {},
   "outputs": [
    {
     "data": {
      "text/plain": [
       "[<lifxlan.tilechain.Tile at 0x10fbc57b8>,\n",
       " <lifxlan.tilechain.Tile at 0x10fbc5940>,\n",
       " <lifxlan.tilechain.Tile at 0x10fbc5a20>,\n",
       " <lifxlan.tilechain.Tile at 0x10fbc5748>,\n",
       " <lifxlan.tilechain.Tile at 0x10fbc56d8>]"
      ]
     },
     "execution_count": 10,
     "metadata": {},
     "output_type": "execute_result"
    }
   ],
   "source": [
    "LR.get_tile_info()"
   ]
  },
  {
   "cell_type": "code",
   "execution_count": 14,
   "metadata": {},
   "outputs": [
    {
     "data": {
      "text/plain": [
       "64"
      ]
     },
     "execution_count": 14,
     "metadata": {},
     "output_type": "execute_result"
    }
   ],
   "source": [
    "len(LR.get_tile_colors(0)[0])"
   ]
  },
  {
   "cell_type": "code",
   "execution_count": 17,
   "metadata": {},
   "outputs": [
    {
     "data": {
      "text/plain": [
       "[[(42, 65535, 39868, 4900),\n",
       "  (0, 0, 0, 1500),\n",
       "  (0, 0, 0, 1500),\n",
       "  (0, 0, 0, 1500),\n",
       "  (0, 0, 0, 1500),\n",
       "  (0, 0, 0, 1500),\n",
       "  (0, 0, 0, 1500),\n",
       "  (0, 0, 0, 1500),\n",
       "  (0, 0, 0, 1500),\n",
       "  (0, 0, 0, 1500),\n",
       "  (0, 0, 0, 1500),\n",
       "  (0, 0, 0, 1500),\n",
       "  (0, 0, 0, 1500),\n",
       "  (0, 0, 0, 1500),\n",
       "  (0, 0, 0, 1500),\n",
       "  (0, 0, 0, 1500),\n",
       "  (0, 0, 0, 1500),\n",
       "  (0, 0, 0, 1500),\n",
       "  (0, 0, 0, 1500),\n",
       "  (0, 0, 0, 1500),\n",
       "  (0, 0, 0, 1500),\n",
       "  (0, 0, 0, 1500),\n",
       "  (0, 0, 0, 1500),\n",
       "  (0, 0, 0, 1500),\n",
       "  (0, 0, 0, 1500),\n",
       "  (0, 0, 0, 1500),\n",
       "  (0, 0, 0, 1500),\n",
       "  (0, 0, 0, 1500),\n",
       "  (0, 0, 0, 1500),\n",
       "  (0, 0, 0, 1500),\n",
       "  (0, 0, 0, 1500),\n",
       "  (0, 0, 0, 1500),\n",
       "  (0, 0, 0, 1500),\n",
       "  (0, 0, 0, 1500),\n",
       "  (0, 0, 0, 1500),\n",
       "  (0, 0, 0, 1500),\n",
       "  (0, 0, 0, 1500),\n",
       "  (0, 0, 0, 1500),\n",
       "  (0, 0, 0, 1500),\n",
       "  (0, 0, 0, 1500),\n",
       "  (0, 0, 0, 1500),\n",
       "  (0, 0, 0, 1500),\n",
       "  (0, 0, 0, 1500),\n",
       "  (0, 0, 0, 1500),\n",
       "  (0, 0, 0, 1500),\n",
       "  (0, 0, 0, 1500),\n",
       "  (0, 0, 0, 1500),\n",
       "  (0, 0, 0, 1500),\n",
       "  (0, 0, 0, 1500),\n",
       "  (0, 0, 0, 1500),\n",
       "  (0, 0, 0, 1500),\n",
       "  (0, 0, 0, 1500),\n",
       "  (0, 0, 0, 1500),\n",
       "  (0, 0, 0, 1500),\n",
       "  (0, 0, 0, 1500),\n",
       "  (0, 0, 0, 1500),\n",
       "  (0, 0, 0, 1500),\n",
       "  (0, 0, 0, 1500),\n",
       "  (0, 0, 0, 1500),\n",
       "  (0, 0, 0, 1500),\n",
       "  (0, 0, 0, 1500),\n",
       "  (0, 0, 0, 1500),\n",
       "  (0, 0, 0, 1500),\n",
       "  (0, 0, 0, 1500)],\n",
       " [(0, 0, 0, 1500),\n",
       "  (0, 0, 0, 1500),\n",
       "  (0, 0, 0, 1500),\n",
       "  (0, 0, 0, 1500),\n",
       "  (0, 0, 0, 1500),\n",
       "  (0, 0, 0, 1500),\n",
       "  (0, 0, 0, 1500),\n",
       "  (0, 0, 0, 1500),\n",
       "  (0, 0, 0, 1500),\n",
       "  (0, 0, 0, 1500),\n",
       "  (0, 0, 0, 1500),\n",
       "  (0, 0, 0, 1500),\n",
       "  (0, 0, 0, 1500),\n",
       "  (0, 0, 0, 1500),\n",
       "  (0, 0, 0, 1500),\n",
       "  (0, 0, 0, 1500),\n",
       "  (0, 0, 0, 1500),\n",
       "  (0, 0, 0, 1500),\n",
       "  (0, 0, 0, 1500),\n",
       "  (0, 0, 0, 1500),\n",
       "  (0, 0, 0, 1500),\n",
       "  (0, 0, 0, 1500),\n",
       "  (0, 0, 0, 1500),\n",
       "  (0, 0, 0, 1500),\n",
       "  (0, 0, 0, 1500),\n",
       "  (0, 0, 0, 1500),\n",
       "  (0, 0, 0, 1500),\n",
       "  (0, 0, 0, 1500),\n",
       "  (0, 0, 0, 1500),\n",
       "  (0, 0, 0, 1500),\n",
       "  (0, 0, 0, 1500),\n",
       "  (0, 0, 0, 1500),\n",
       "  (0, 0, 0, 1500),\n",
       "  (0, 0, 0, 1500),\n",
       "  (0, 0, 0, 1500),\n",
       "  (0, 0, 0, 1500),\n",
       "  (0, 0, 0, 1500),\n",
       "  (0, 0, 0, 1500),\n",
       "  (0, 0, 0, 1500),\n",
       "  (0, 0, 0, 1500),\n",
       "  (0, 0, 0, 1500),\n",
       "  (0, 0, 0, 1500),\n",
       "  (0, 0, 0, 1500),\n",
       "  (0, 0, 0, 1500),\n",
       "  (0, 0, 0, 1500),\n",
       "  (0, 0, 0, 1500),\n",
       "  (0, 0, 0, 1500),\n",
       "  (0, 0, 0, 1500),\n",
       "  (0, 0, 0, 1500),\n",
       "  (0, 0, 0, 1500),\n",
       "  (0, 0, 0, 1500),\n",
       "  (0, 0, 0, 1500),\n",
       "  (0, 0, 0, 1500),\n",
       "  (0, 0, 0, 1500),\n",
       "  (0, 0, 0, 1500),\n",
       "  (0, 0, 0, 1500),\n",
       "  (0, 0, 0, 1500),\n",
       "  (0, 0, 0, 1500),\n",
       "  (0, 0, 0, 1500),\n",
       "  (0, 0, 0, 1500),\n",
       "  (0, 0, 0, 1500),\n",
       "  (0, 0, 0, 1500),\n",
       "  (0, 0, 0, 1500),\n",
       "  (0, 0, 0, 1500)]]"
      ]
     },
     "execution_count": 17,
     "metadata": {},
     "output_type": "execute_result"
    }
   ],
   "source": [
    "LR.get_tile_colors(0, tile_count=2)"
   ]
  },
  {
   "cell_type": "code",
   "execution_count": 18,
   "metadata": {},
   "outputs": [
    {
     "name": "stdout",
     "output_type": "stream",
     "text": [
      "Help on method set_tile_colors in module lifxlan.tilechain:\n",
      "\n",
      "set_tile_colors(start_index, colors, duration=0, tile_count=1, x=0, y=0, width=8, rapid=False) method of lifxlan.tilechain.TileChain instance\n",
      "\n"
     ]
    }
   ],
   "source": [
    "help(LR.set_tile_colors)"
   ]
  },
  {
   "cell_type": "code",
   "execution_count": 25,
   "metadata": {},
   "outputs": [],
   "source": [
    "#Come back to this later\n",
    "#LR.set_tile_colors(0,colors = BLUE)"
   ]
  },
  {
   "cell_type": "code",
   "execution_count": 22,
   "metadata": {},
   "outputs": [],
   "source": [
    "RED = [65535, 65535, 65535, 3500]\n",
    "ORANGE = [6500, 65535, 65535, 3500]\n",
    "YELLOW = [9000, 65535, 65535, 3500]\n",
    "GREEN = [16173, 65535, 65535, 3500]\n",
    "CYAN = [29814, 65535, 65535, 3500]\n",
    "BLUE = [43634, 65535, 65535, 3500]\n",
    "PURPLE = [50486, 65535, 65535, 3500]\n",
    "PINK = [58275, 65535, 47142, 3500]\n",
    "WHITE = [58275, 0, 65535, 5500]\n",
    "COLD_WHITE = [58275, 0, 65535, 9000]\n",
    "WARM_WHITE = [58275, 0, 65535, 3200]\n",
    "GOLD = [58275, 0, 65535, 2500]"
   ]
  },
  {
   "cell_type": "code",
   "execution_count": 29,
   "metadata": {},
   "outputs": [],
   "source": [
    "from random import randint, betavariate\n",
    "from time import sleep\n",
    "\n",
    "original_colors = LR.get_tilechain_colors()\n",
    "(cols, rows) = LR.get_canvas_dimensions()\n",
    "hue = 0\n",
    "day_colors = []\n",
    "for row in range(rows):\n",
    "    color_row = []\n",
    "    for col in range(cols):\n",
    "        color_row.append(get_day_color())\n",
    "        hue += int(65535.0/(cols*rows))\n",
    "    day_colors.append(color_row)\n",
    "\n",
    "LR.project_matrix(day_colors)\n"
   ]
  },
  {
   "cell_type": "code",
   "execution_count": 27,
   "metadata": {},
   "outputs": [],
   "source": [
    "def get_day_color():\n",
    "    #return (int(800 + (5000 * betavariate(0.2, 0.9))), randint(0, 10000), int(65535 * betavariate(0.5, 1)), randint(3500, 5000))\n",
    "    #return (randint(11739, 30836), randint(0, 10000), int(65535 * betavariate(0.15, 1)), randint(3500, 5000))\n",
    "    return (randint(11739, 30836), randint(3000, 10000), int(65535 * betavariate(0.15, 1)), randint(3000, 4000))\n"
   ]
  },
  {
   "cell_type": "code",
   "execution_count": 40,
   "metadata": {},
   "outputs": [
    {
     "data": {
      "text/plain": [
       "36"
      ]
     },
     "execution_count": 40,
     "metadata": {},
     "output_type": "execute_result"
    }
   ],
   "source": [
    "len(day_colors[7])\n"
   ]
  },
  {
   "cell_type": "code",
   "execution_count": 41,
   "metadata": {},
   "outputs": [
    {
     "data": {
      "text/plain": [
       "48"
      ]
     },
     "execution_count": 41,
     "metadata": {},
     "output_type": "execute_result"
    }
   ],
   "source": [
    "len(day_colors)"
   ]
  },
  {
   "cell_type": "code",
   "execution_count": null,
   "metadata": {},
   "outputs": [],
   "source": []
  }
 ],
 "metadata": {
  "kernelspec": {
   "display_name": "Python 3",
   "language": "python",
   "name": "python3"
  },
  "language_info": {
   "codemirror_mode": {
    "name": "ipython",
    "version": 3
   },
   "file_extension": ".py",
   "mimetype": "text/x-python",
   "name": "python",
   "nbconvert_exporter": "python",
   "pygments_lexer": "ipython3",
   "version": "3.7.3"
  }
 },
 "nbformat": 4,
 "nbformat_minor": 4
}
