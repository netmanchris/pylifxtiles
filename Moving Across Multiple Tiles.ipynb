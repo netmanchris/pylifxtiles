{
 "cells": [
  {
   "cell_type": "markdown",
   "metadata": {},
   "source": [
    "# Project Description\n",
    "\n",
    "The goal of this project is to move images across muliple LIFX tiles in a single chain. \n",
    "\n"
   ]
  },
  {
   "cell_type": "code",
   "execution_count": 1,
   "metadata": {},
   "outputs": [],
   "source": [
    "#imports required\n",
    "from lifxlan import *\n",
    "from pylifxtiles.tiles import *\n",
    "from pylifxtiles import objects\n",
    "from pylifxtiles import actions\n",
    "from pylifxtiles.alphanum import alpha\n",
    "from pylifxtiles.colors import *\n",
    "#from pylifxtiles.tiles import __shift"
   ]
  },
  {
   "cell_type": "code",
   "execution_count": null,
   "metadata": {},
   "outputs": [],
   "source": [
    "#place holder for single __main__ function\n"
   ]
  },
  {
   "cell_type": "code",
   "execution_count": 2,
   "metadata": {},
   "outputs": [
    {
     "name": "stdout",
     "output_type": "stream",
     "text": [
      "17\n"
     ]
    }
   ],
   "source": [
    "#import LIFxLAN object and get all LIFX lights and assign to lifx object\n",
    "from lifxlan import LifxLAN\n",
    "lifx = LifxLAN(30)\n",
    "\n",
    "tilechain_lights = lifx.get_tilechain_lights()\n",
    "print (len(tilechain_lights))\n",
    "len(tilechain_lights)\n",
    "#Print out the list of LIFX Tile lights to find the one we're looking for\n",
    "#TODO Should write a helper function that finds the right light and automatically assigns it to a variable\n",
    "canvas = ['T1', 'T2', 'T3', 'T4']\n",
    "for tile in tilechain_lights:\n",
    "    if tile.get_label()  ==  'T1':\n",
    "    #if tile.get_label() == 'TEST':\n",
    "        T1 = tile\n",
    "    if tile.get_label()  =='T2':\n",
    "    #if tile.get_label() == 'TEST':\n",
    "        T2 = tile\n",
    "    if tile.get_label()  == 'T3':\n",
    "    #if tile.get_label() == 'TEST':\n",
    "        T3 = tile\n",
    "    if tile.get_label()  == 'T4':\n",
    "    #if tile.get_label() == 'TEST':\n",
    "        T4 = tile\n",
    "    if tile.get_label()  == 'LR1':\n",
    "    #if tile.get_label() == 'TEST':\n",
    "        LR = tile"
   ]
  },
  {
   "cell_type": "code",
   "execution_count": 4,
   "metadata": {},
   "outputs": [],
   "source": [
    "#Setup single 5 letter word on Single TC. 1 letter on each tile.\n",
    "\n",
    "my_word = 'Hello'\n",
    "target_tile = LR\n",
    "original_colors = actions.reset_tiles(target_tile)\n",
    "target_color_map = original_colors\n",
    "tile = 0\n",
    "for letter in my_word.lower():\n",
    "                #blank_tile= actions.blank_tile()\n",
    "                #print (len(blank_tile))\n",
    "                for led in alpha[letter]:\n",
    "                    target_color_map[tile][led] = (dblue, 65535, fourty, 4900)\n",
    "                target_tile.set_tile_colors(tile, target_color_map[tile], rapid=True)\n",
    "                tile += 1\n",
    "\n",
    "\n",
    "x = target_tile.get_tilechain_colors()\n",
    "y = combine_multiple_tiles(x)"
   ]
  },
  {
   "cell_type": "code",
   "execution_count": 6,
   "metadata": {},
   "outputs": [],
   "source": [
    "for i in range(40):\n",
    "    #y = __shift(y, UP, 1)\n",
    "    y = shift(y, LEFT, 1)\n",
    "    target_tile.set_tilechain_colors(split_combined_matrix(y), rapid=True)\n"
   ]
  },
  {
   "cell_type": "code",
   "execution_count": 53,
   "metadata": {},
   "outputs": [],
   "source": [
    "def test_split_matrix_brian(combined_matrix):\n",
    "    #create empty list to hold tiles\n",
    "    tiles = []\n",
    "    #combined matrix is 8xn where n is divisible by 8\n",
    "    tile_count = len(combined_matrix[0])//8\n",
    "    columns = len(combined_matrix[0])\n",
    "    \n",
    "    for n in range(tile_count):\n",
    "        #create new tile_list in tiles\n",
    "        tile = []\n",
    "        for r in range(8):\n",
    "            col = n*8\n",
    "            tile.append(combined_matrix[r][(col):(col+8)])\n",
    "        tiles.append(tile)\n",
    "    return tiles"
   ]
  },
  {
   "cell_type": "code",
   "execution_count": 47,
   "metadata": {},
   "outputs": [],
   "source": [
    "a = split_combined_matrix(y)\n",
    "b = test_split_matrix_brian(y)"
   ]
  },
  {
   "cell_type": "code",
   "execution_count": 48,
   "metadata": {},
   "outputs": [
    {
     "data": {
      "text/plain": [
       "False"
      ]
     },
     "execution_count": 48,
     "metadata": {},
     "output_type": "execute_result"
    }
   ],
   "source": [
    "a == b"
   ]
  },
  {
   "cell_type": "code",
   "execution_count": 49,
   "metadata": {},
   "outputs": [
    {
     "data": {
      "text/plain": [
       "False"
      ]
     },
     "execution_count": 49,
     "metadata": {},
     "output_type": "execute_result"
    }
   ],
   "source": [
    "a == y"
   ]
  },
  {
   "cell_type": "code",
   "execution_count": 50,
   "metadata": {},
   "outputs": [
    {
     "data": {
      "text/plain": [
       "False"
      ]
     },
     "execution_count": 50,
     "metadata": {},
     "output_type": "execute_result"
    }
   ],
   "source": [
    "b == y"
   ]
  },
  {
   "cell_type": "code",
   "execution_count": 25,
   "metadata": {},
   "outputs": [
    {
     "data": {
      "text/plain": [
       "5"
      ]
     },
     "execution_count": 25,
     "metadata": {},
     "output_type": "execute_result"
    }
   ],
   "source": [
    "len(y[0])//8"
   ]
  },
  {
   "cell_type": "code",
   "execution_count": 27,
   "metadata": {},
   "outputs": [
    {
     "data": {
      "text/plain": [
       "8"
      ]
     },
     "execution_count": 27,
     "metadata": {},
     "output_type": "execute_result"
    }
   ],
   "source": [
    "len(b)"
   ]
  },
  {
   "cell_type": "code",
   "execution_count": 28,
   "metadata": {},
   "outputs": [
    {
     "data": {
      "text/plain": [
       "8"
      ]
     },
     "execution_count": 28,
     "metadata": {},
     "output_type": "execute_result"
    }
   ],
   "source": [
    "len(b[0])"
   ]
  },
  {
   "cell_type": "code",
   "execution_count": 32,
   "metadata": {},
   "outputs": [
    {
     "data": {
      "text/plain": [
       "[(0, 0, 0, 1500),\n",
       " (45793, 65535, 26313, 4900),\n",
       " (0, 0, 0, 1500),\n",
       " (0, 0, 0, 1500),\n",
       " (0, 0, 0, 1500),\n",
       " (0, 0, 0, 1500),\n",
       " (45793, 65535, 26313, 4900),\n",
       " (0, 0, 0, 1500)]"
      ]
     },
     "execution_count": 32,
     "metadata": {},
     "output_type": "execute_result"
    }
   ],
   "source": [
    "b[0]"
   ]
  },
  {
   "cell_type": "code",
   "execution_count": 33,
   "metadata": {},
   "outputs": [
    {
     "data": {
      "text/plain": [
       "[(0, 0, 0, 1500),\n",
       " (45793, 65535, 26313, 4900),\n",
       " (0, 0, 0, 1500),\n",
       " (0, 0, 0, 1500),\n",
       " (0, 0, 0, 1500),\n",
       " (0, 0, 0, 1500),\n",
       " (45793, 65535, 26313, 4900),\n",
       " (0, 0, 0, 1500),\n",
       " (0, 0, 0, 1500),\n",
       " (45793, 65535, 26313, 4900),\n",
       " (45793, 65535, 26313, 4900),\n",
       " (45793, 65535, 26313, 4900),\n",
       " (45793, 65535, 26313, 4900),\n",
       " (45793, 65535, 26313, 4900),\n",
       " (45793, 65535, 26313, 4900),\n",
       " (0, 0, 0, 1500),\n",
       " (0, 0, 0, 1500),\n",
       " (45793, 65535, 26313, 4900),\n",
       " (0, 0, 0, 1500),\n",
       " (0, 0, 0, 1500),\n",
       " (0, 0, 0, 1500),\n",
       " (0, 0, 0, 1500),\n",
       " (0, 0, 0, 1500),\n",
       " (0, 0, 0, 1500),\n",
       " (0, 0, 0, 1500),\n",
       " (45793, 65535, 26313, 4900),\n",
       " (0, 0, 0, 1500),\n",
       " (0, 0, 0, 1500),\n",
       " (0, 0, 0, 1500),\n",
       " (0, 0, 0, 1500),\n",
       " (0, 0, 0, 1500),\n",
       " (0, 0, 0, 1500),\n",
       " (0, 0, 0, 1500),\n",
       " (0, 0, 0, 1500),\n",
       " (0, 0, 0, 1500),\n",
       " (45793, 65535, 26313, 4900),\n",
       " (45793, 65535, 26313, 4900),\n",
       " (0, 0, 0, 1500),\n",
       " (0, 0, 0, 1500),\n",
       " (0, 0, 0, 1500)]"
      ]
     },
     "execution_count": 33,
     "metadata": {},
     "output_type": "execute_result"
    }
   ],
   "source": [
    "y[0]"
   ]
  },
  {
   "cell_type": "code",
   "execution_count": null,
   "metadata": {},
   "outputs": [],
   "source": []
  }
 ],
 "metadata": {
  "kernelspec": {
   "display_name": "Python 3",
   "language": "python",
   "name": "python3"
  },
  "language_info": {
   "codemirror_mode": {
    "name": "ipython",
    "version": 3
   },
   "file_extension": ".py",
   "mimetype": "text/x-python",
   "name": "python",
   "nbconvert_exporter": "python",
   "pygments_lexer": "ipython3",
   "version": "3.7.3"
  }
 },
 "nbformat": 4,
 "nbformat_minor": 4
}
