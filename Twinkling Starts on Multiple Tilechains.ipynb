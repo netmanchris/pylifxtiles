{
 "cells": [
  {
   "cell_type": "markdown",
   "metadata": {},
   "source": [
    "# Description\n",
    "\n",
    "Project is to attempt to draw n random stars on 2 LIXF Tile Chains laid out as following\n",
    "\n",
    "TC1   [0] [1] [2] [3] [4]\n",
    "TC2   [0] [1] [2] [3] [4]\n",
    "\n",
    "Care should be taken to make sure that the 0 position is in the right place. "
   ]
  },
  {
   "cell_type": "code",
   "execution_count": 2,
   "metadata": {},
   "outputs": [
    {
     "name": "stdout",
     "output_type": "stream",
     "text": [
      "T1 found\n",
      "T4 found\n",
      "T3 found\n",
      "T2 found\n",
      "Workflow Exception fire\n"
     ]
    }
   ],
   "source": [
    "from lifxlan import *\n",
    "from random import randint, choice, betavariate\n",
    "from time import sleep\n",
    "from lifxlan.device import WorkflowException\n",
    "from pylifxtiles import actions\n",
    "from pylifxtiles import colors\n",
    "from pylifxtiles import objects\n",
    "\n",
    "\n",
    "#Populate list with the name of the Tilechains\n",
    "tc_target =['T1','T2','T3', 'T4']\n",
    "#variable used to select the top tilechain where the moon will be displayed\n",
    "top_tc='T1'\n",
    "tc_list = []\n",
    "#tc1_name='T3'\n",
    "#tc2_name = 'T4'\n",
    "#target_tile1 = None\n",
    "#target_tile2 = None\n",
    "def main():\n",
    "    global target_tile1, target_tile2\n",
    "    lan = LifxLAN()\n",
    "    tilechain_lights = lan.get_tilechain_lights()\n",
    "    if len(tilechain_lights) != 0:\n",
    "        for tile in tilechain_lights:\n",
    "            if tile.get_label() in tc_target:\n",
    "                tc_list.append(tile)\n",
    "                print (tile.get_label()+ ' found')\n",
    "    duration_ms = 1000\n",
    "    try:\n",
    "        for tile in tc_list:\n",
    "            original_colors = actions.reset_tiles(tile)\n",
    "        run = 0\n",
    "        while(True):\n",
    "            for tile in tc_list:\n",
    "                if tile.label == top_tc:    \n",
    "                    objects.draw_moon(tile,4)\n",
    "            my_tiles=[0,1,2,3,4]\n",
    "            #twinkle_stars(target_tile1,0,3)\n",
    "            #twinkle_stars(target_tile2,0,3)\n",
    "            #for tile in tc_list:\n",
    "            #   twinkle_stars(tile,choice(my_tiles),2)\n",
    "            rand_tc = choice(tc_list)\n",
    "            rand_tile = choice(my_tiles)\n",
    "            if rand_tc.label == 'T1' and rand_tile == 4:\n",
    "                pass\n",
    "            else:\n",
    "                twinkle_stars(rand_tc, rand_tile,2)\n",
    "            \n",
    "    except KeyboardInterrupt:\n",
    "            print(\"Done.\")\n",
    "    except WorkflowException:\n",
    "        print ('Workflow Exception fire')\n",
    "        generate_stars()\n",
    "            \n",
    "def generate_stars():\n",
    "    try:\n",
    "        for tile in tc_list:\n",
    "                if tile.label == top_tc:    \n",
    "                    objects.draw_moon(tile,4)\n",
    "                    my_tiles=[0,1,2,3,4]\n",
    "                    #twinkle_stars(target_tile1,0,3)\n",
    "                    #twinkle_stars(target_tile2,0,3)\n",
    "                    #for tile in tc_list:\n",
    "                    #   twinkle_stars(tile,choice(my_tiles),2)\n",
    "                    rand_tc = choice(tc_list)\n",
    "                    rand_tile = choice(my_tiles)\n",
    "                    if rand_tc.label == 'T1' and rand_tile == 4:\n",
    "                        pass\n",
    "                    else:\n",
    "                        twinkle_stars(rand_tc, rand_tile,2)\n",
    "    except KeyboardInterrupt:\n",
    "            print(\"Done.\")\n",
    "    except WorkflowException:\n",
    "        print ('Workflow Exception fire')\n",
    "        generate_stars()\n",
    "            \n",
    "            \n",
    "def random_stars(num_stars):\n",
    "    star_pos = []\n",
    "    for led in range(num_stars):\n",
    "        star_pos.append(randint(0,63))\n",
    "    return star_pos\n",
    "\n",
    "def twinkle_stars(tilechain, tile, num_stars):\n",
    "    star_pos= random_stars(num_stars)\n",
    "    twinkle_list = [colors.twenty, colors.thirty, colors.fourty]\n",
    "    new_tile = actions.blank_tile()\n",
    "    for cycle in range(5):\n",
    "        for led in star_pos:\n",
    "            new_tile[led] = (colors.yellow, 60000, choice(twinkle_list), 4900)\n",
    "            tilechain.set_tile_colors(tile,new_tile, rapid=True)\n",
    "            sleep(.05)\n",
    "            \n",
    "if __name__==\"__main__\":\n",
    "    main()"
   ]
  },
  {
   "cell_type": "code",
   "execution_count": 37,
   "metadata": {},
   "outputs": [
    {
     "name": "stdout",
     "output_type": "stream",
     "text": [
      "T1 found\n",
      "T3 found\n",
      "T4 found\n",
      "T2 found\n",
      "Done.\n"
     ]
    }
   ],
   "source": [
    "from lifxlan import *\n",
    "from random import randint, choice, betavariate\n",
    "from time import sleep\n",
    "from lifxlan.device import WorkflowException\n",
    "from pylifxtiles import actions\n",
    "from pylifxtiles import colors\n",
    "from pylifxtiles import objects\n",
    "\n",
    "\n",
    "#Populate list with the name of the Tilechains\n",
    "tc_target =['T1','T2','T3', 'T4']\n",
    "#variable used to select the top tilechain where the moon will be displayed\n",
    "top_tc='T1'\n",
    "tc_list = []\n",
    "#tc1_name='T3'\n",
    "#tc2_name = 'T4'\n",
    "#target_tile1 = None\n",
    "#target_tile2 = None\n",
    "def main():\n",
    "    global target_tile1, target_tile2\n",
    "    lan = LifxLAN()\n",
    "    tilechain_lights = lan.get_tilechain_lights()\n",
    "    if len(tilechain_lights) != 0:\n",
    "        for tile in tilechain_lights:\n",
    "            if tile.get_label() in tc_target:\n",
    "                tc_list.append(tile)\n",
    "                print (tile.get_label()+ ' found')\n",
    "    duration_ms = 1000\n",
    "    try:\n",
    "        for tile in tc_list:\n",
    "            original_colors = actions.reset_tiles(tile)\n",
    "        run = 0\n",
    "        while(True):\n",
    "            for tile in tc_list:\n",
    "                if tile.label == top_tc:    \n",
    "                    objects.draw_moon(tile,4)\n",
    "            #my_tiles=[0,1,2,3,4]\n",
    "            #twinkle_stars(target_tile1,0,3)\n",
    "            #twinkle_stars(target_tile2,0,3)\n",
    "            #for tile in tc_list:\n",
    "            #   twinkle_stars(tile,choice(my_tiles),2)\n",
    "            #rand_tc = choice(tc_list)\n",
    "            #rand_tile = choice(my_tiles)\n",
    "            #if rand_tc.label == 'T1' and rand_tile == 4:\n",
    "            #    pass\n",
    "            #else:\n",
    "            twinkle_stars(tc_list,2)\n",
    "            \n",
    "    except KeyboardInterrupt:\n",
    "            print(\"Done.\")\n",
    "    except WorkflowException:\n",
    "        print ('Workflow Exception fire')\n",
    "        generate_stars()\n",
    "            \n",
    "\n",
    "            \n",
    "            \n",
    "def random_stars(num_stars):\n",
    "    star_pos = []\n",
    "    for led in range(num_stars):\n",
    "        star_pos.append(randint(0,63))\n",
    "    return star_pos\n",
    "\n",
    "def twinkle_stars(tilechain_list, num_stars):\n",
    "    star_pos = [random_stars(2),random_stars(2),random_stars(2),random_stars(2)]\n",
    "    twinkle_list = [colors.twenty, colors.thirty, colors.fourty]\n",
    "    new_tile = actions.blank_tile()\n",
    "    my_tiles=[0,1,2,3,4]\n",
    "\n",
    "    for led in choice(star_pos):\n",
    "        rand_tc= choice(tilechain_list)\n",
    "        rand_tile = choice(my_tiles)\n",
    "        if rand_tc.label == 'T1' and rand_tile == 4:\n",
    "            pass\n",
    "        else:\n",
    "            new_tile[led] = (colors.yellow, 60000, choice(twinkle_list), 4900)\n",
    "            rand_tc.set_tile_colors(rand_tile,new_tile, rapid=True)\n",
    "            sleep(.5)\n",
    "            new_tile[led] = (colors.yellow, 60000, choice(twinkle_list), 4900)\n",
    "            rand_tc.set_tile_colors(rand_tile,new_tile, rapid=True)\n",
    "            sleep(.5)\n",
    "            new_tile[led] = (colors.yellow, 60000, choice(twinkle_list), 4900)\n",
    "            rand_tc.set_tile_colors(rand_tile,new_tile, rapid=True)\n",
    "            \n",
    "\n",
    "if __name__==\"__main__\":\n",
    "    main()"
   ]
  },
  {
   "cell_type": "code",
   "execution_count": 26,
   "metadata": {},
   "outputs": [
    {
     "data": {
      "text/plain": [
       "[[13, 41], [46, 28], [54, 17], [5, 44]]"
      ]
     },
     "execution_count": 26,
     "metadata": {},
     "output_type": "execute_result"
    }
   ],
   "source": [
    "star_pos = [random_stars(2),random_stars(2),random_stars(2),random_stars(2)]\n"
   ]
  },
  {
   "cell_type": "code",
   "execution_count": 34,
   "metadata": {},
   "outputs": [],
   "source": [
    "from pylifxtiles.actions import *\n",
    "from pylifxtiles.colors import *\n",
    "from random import randint, choice\n",
    "from time import sleep\n",
    "twinkle_list = [twenty, thirty, fourty]\n",
    "\n",
    "for tile in range(1):\n",
    "    star_pos = random_stars(2)\n",
    "    new_tile = blank_tile()\n",
    "    for cycle in range(10):\n",
    "        for led in star_pos:\n",
    "            new_tile[led] = (yellow, 60000, choice(twinkle_list), 4900)\n",
    "            target_tile2.set_tile_colors(0,new_tile, rapid=True)\n",
    "            sleep(.5)\n",
    "\n",
    "        \n",
    "\n",
    "\n"
   ]
  },
  {
   "cell_type": "code",
   "execution_count": 36,
   "metadata": {},
   "outputs": [],
   "source": [
    "def random_stars(num_stars):\n",
    "    star_pos = []\n",
    "    for led in range(num_stars):\n",
    "        star_pos.append(randint(0,63))\n",
    "    return star_pos\n",
    "\n",
    "def twinkle_stars(tilechain, tile, num_stars):\n",
    "    star_pos= random_stars(num_stars)\n",
    "    twinkle_list = [twenty, thirty, fourty]\n",
    "    for cycle in range(10):\n",
    "        for led in star_pos:\n",
    "            new_tile[led] = (yellow, 60000, choice(twinkle_list), 4900)\n",
    "            tilechain.set_tile_colors(tile,new_tile, rapid=True)\n",
    "            sleep(.5)"
   ]
  },
  {
   "cell_type": "code",
   "execution_count": 37,
   "metadata": {},
   "outputs": [],
   "source": [
    "twinkle_stars(target_tile2,0,3)"
   ]
  },
  {
   "cell_type": "code",
   "execution_count": 6,
   "metadata": {},
   "outputs": [
    {
     "name": "stdout",
     "output_type": "stream",
     "text": [
      "ten\n",
      "ten\n",
      "ten\n",
      "one\n",
      "five\n"
     ]
    }
   ],
   "source": [
    "for i in range(5):\n",
    "    print (choice(twinkle_list))"
   ]
  },
  {
   "cell_type": "code",
   "execution_count": 2,
   "metadata": {},
   "outputs": [
    {
     "name": "stdout",
     "output_type": "stream",
     "text": [
      "Collecting pip\n",
      "  Using cached https://files.pythonhosted.org/packages/54/0c/d01aa759fdc501a58f431eb594a17495f15b88da142ce14b5845662c13f3/pip-20.0.2-py2.py3-none-any.whl\n",
      "Collecting aiohttp\n",
      "\u001b[?25l  Downloading https://files.pythonhosted.org/packages/40/fd/3a595d6467eb31f7b69eb980778567e764b5d93990b4ceb8ddf6079dd776/aiohttp-3.6.2-cp37-cp37m-macosx_10_13_x86_64.whl (642kB)\n",
      "\u001b[K    100% |████████████████████████████████| 645kB 2.0MB/s ta 0:00:01\n",
      "\u001b[?25hCollecting aiofiles\n",
      "  Downloading https://files.pythonhosted.org/packages/f4/2b/078a9771ae4b67e36b0c2a973df845260833a4eb088b81c84b738509b4c4/aiofiles-0.5.0-py3-none-any.whl\n",
      "Collecting aiodns\n",
      "  Downloading https://files.pythonhosted.org/packages/da/01/8f2d49b441573fd2478833bdba91cf0b853b4c750a1fbb9e98de1b94bb22/aiodns-2.0.0-py2.py3-none-any.whl\n",
      "Requirement already satisfied, skipping upgrade: chardet<4.0,>=2.0 in ./venv/lib/python3.7/site-packages (from aiohttp) (3.0.4)\n",
      "Collecting yarl<2.0,>=1.0 (from aiohttp)\n",
      "\u001b[?25l  Downloading https://files.pythonhosted.org/packages/e2/a9/7f06ccfd82ee4ae46591151fca009c96c0e7834b13e110cc09abdb2ed76e/yarl-1.4.2-cp37-cp37m-macosx_10_13_x86_64.whl (125kB)\n",
      "\u001b[K    100% |████████████████████████████████| 133kB 2.6MB/s ta 0:00:01\n",
      "\u001b[?25hCollecting async-timeout<4.0,>=3.0 (from aiohttp)\n",
      "  Using cached https://files.pythonhosted.org/packages/e1/1e/5a4441be21b0726c4464f3f23c8b19628372f606755a9d2e46c187e65ec4/async_timeout-3.0.1-py3-none-any.whl\n",
      "Collecting multidict<5.0,>=4.5 (from aiohttp)\n",
      "\u001b[?25l  Downloading https://files.pythonhosted.org/packages/54/8c/b667b6a0efb9ca96cf48ae970a821bf99f2be60603366ce04b3b7c0a6bad/multidict-4.7.5-cp37-cp37m-macosx_10_13_x86_64.whl (48kB)\n",
      "\u001b[K    100% |████████████████████████████████| 51kB 3.1MB/s ta 0:00:01\n",
      "\u001b[?25hRequirement already satisfied, skipping upgrade: attrs>=17.3.0 in ./venv/lib/python3.7/site-packages (from aiohttp) (19.3.0)\n",
      "Collecting pycares>=3.0.0 (from aiodns)\n",
      "\u001b[?25l  Downloading https://files.pythonhosted.org/packages/c4/1c/204ee396ca49795c911a429a9e52b7dfb31605de85adcbbf0d2a1deff292/pycares-3.1.1-cp37-cp37m-macosx_10_6_intel.whl (122kB)\n",
      "\u001b[K    100% |████████████████████████████████| 122kB 4.1MB/s ta 0:00:01\n",
      "\u001b[?25hRequirement already satisfied, skipping upgrade: idna>=2.0 in ./venv/lib/python3.7/site-packages (from yarl<2.0,>=1.0->aiohttp) (2.9)\n",
      "Collecting cffi>=1.5.0 (from pycares>=3.0.0->aiodns)\n",
      "\u001b[?25l  Downloading https://files.pythonhosted.org/packages/b2/77/547a14d5677c5448359fbd9e59b9ab3cca62e91417cf71e46ca234fbbfa5/cffi-1.14.0-cp37-cp37m-macosx_10_9_x86_64.whl (174kB)\n",
      "\u001b[K    100% |████████████████████████████████| 184kB 3.0MB/s ta 0:00:01\n",
      "\u001b[?25hCollecting pycparser (from cffi>=1.5.0->pycares>=3.0.0->aiodns)\n",
      "\u001b[?25l  Downloading https://files.pythonhosted.org/packages/ae/e7/d9c3a176ca4b02024debf82342dab36efadfc5776f9c8db077e8f6e71821/pycparser-2.20-py2.py3-none-any.whl (112kB)\n",
      "\u001b[K    100% |████████████████████████████████| 112kB 3.4MB/s ta 0:00:01\n",
      "\u001b[?25hInstalling collected packages: pip, multidict, yarl, async-timeout, aiohttp, aiofiles, pycparser, cffi, pycares, aiodns\n",
      "  Found existing installation: pip 19.0.3\n",
      "    Uninstalling pip-19.0.3:\n",
      "      Successfully uninstalled pip-19.0.3\n",
      "Successfully installed aiodns-2.0.0 aiofiles-0.5.0 aiohttp-3.6.2 async-timeout-3.0.1 cffi-1.14.0 multidict-4.7.5 pip-20.0.2 pycares-3.1.1 pycparser-2.20 yarl-1.4.2\n"
     ]
    }
   ],
   "source": [
    "#command used to upgrade asynchio module \n",
    "# https://realpython.com/async-io-python/\n",
    "#!pip install --upgrade pip aiohttp aiofiles aiodns"
   ]
  },
  {
   "cell_type": "code",
   "execution_count": null,
   "metadata": {},
   "outputs": [],
   "source": []
  }
 ],
 "metadata": {
  "kernelspec": {
   "display_name": "Python 3",
   "language": "python",
   "name": "python3"
  },
  "language_info": {
   "codemirror_mode": {
    "name": "ipython",
    "version": 3
   },
   "file_extension": ".py",
   "mimetype": "text/x-python",
   "name": "python",
   "nbconvert_exporter": "python",
   "pygments_lexer": "ipython3",
   "version": "3.7.3"
  }
 },
 "nbformat": 4,
 "nbformat_minor": 4
}
