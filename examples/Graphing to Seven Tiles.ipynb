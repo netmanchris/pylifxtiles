{
 "cells": [
  {
   "cell_type": "code",
   "execution_count": 8,
   "metadata": {},
   "outputs": [],
   "source": [
    "import matplotlib\n",
    "import matplotlib.pyplot as plt\n",
    "from random import choice, randrange"
   ]
  },
  {
   "cell_type": "code",
   "execution_count": 16,
   "metadata": {},
   "outputs": [],
   "source": [
    "my_x = []\n",
    "my_y = []\n",
    "for i in range(100):\n",
    "    my_x.append(i)\n",
    "    my_y.append(i)"
   ]
  },
  {
   "cell_type": "code",
   "execution_count": 19,
   "metadata": {},
   "outputs": [
    {
     "data": {
      "image/png": "[encoded data removed]",
      "text/plain": [
       "<Figure size 432x288 with 1 Axes>"
      ]
     },
     "metadata": {
      "needs_background": "light"
     },
     "output_type": "display_data"
    }
   ],
   "source": [
    "plt.xlabel('Months')\n",
    "plt.ylabel('Books Read')\n",
    "plt.plot(my_x, my_y)\n",
    "#plt.savefig('./images/matplot.png', transparent=True)\n",
    "plt.savefig('./images/matplot.png')"
   ]
  },
  {
   "cell_type": "code",
   "execution_count": 21,
   "metadata": {},
   "outputs": [
    {
     "name": "stdout",
     "output_type": "stream",
     "text": [
      "23\n",
      "T6\n",
      "T5\n",
      "T2\n",
      "T7\n",
      "T1\n",
      "T4\n",
      "T3\n",
      "0\n",
      "1\n",
      "2\n",
      "3\n",
      "4\n",
      "5\n",
      "6\n"
     ]
    }
   ],
   "source": [
    "#Main Program for Convert Single Image to Tiles\n",
    "\n",
    "# Full running function with all dependencies\n",
    "#imports RGB to HSBK conversion function from LIFX LAN library\n",
    "from lifxlan import LifxLAN\n",
    "from lifxlan.utils import RGBtoHSBK\n",
    "from pylifxtiles import tiles\n",
    "from pylifxtiles import actions\n",
    "from matplotlib import image\n",
    "from PIL import Image\n",
    "\n",
    "# modify this variable to the name of the specific LIFX Tilechain as shown in the LIFX app\n",
    "\n",
    "source_image = './images/matplot.png'\n",
    "\n",
    "\n",
    "def main():\n",
    "    lan = LifxLAN()\n",
    "    tilechain_lights = lan.get_tilechain_lights()\n",
    "    print(len(tilechain_lights))\n",
    "    if len(tilechain_lights) != 0:\n",
    "        for tile in tilechain_lights:\n",
    "            if tile.get_label()  ==  'T1':\n",
    "                print(tile.get_label())\n",
    "                T1 = tile\n",
    "            if tile.get_label()  =='T2':\n",
    "                print(tile.get_label())\n",
    "                T2 = tile\n",
    "            if tile.get_label()  == 'T3':\n",
    "                print(tile.get_label())\n",
    "                T3 = tile\n",
    "            if tile.get_label()  == 'T4':\n",
    "                print(tile.get_label())\n",
    "                T4 = tile\n",
    "            if tile.get_label()  == 'T5':\n",
    "                print(tile.get_label())\n",
    "                T5 = tile\n",
    "            if tile.get_label()  == 'T6':\n",
    "                print(tile.get_label())\n",
    "                T6 = tile\n",
    "            if tile.get_label()  == 'T7':\n",
    "                print(tile.get_label())\n",
    "                T7 = tile\n",
    "    tc_list = [ T1, T2, T3, T4, T5, T6, T7]\n",
    "    try:\n",
    "        display_image(source_image,(40,56), tc_list)\n",
    "    except KeyboardInterrupt:\n",
    "        print(\"Done.\")\n",
    "\n",
    "\n",
    "\n",
    "\n",
    "#combined function\n",
    "\n",
    "# resize image and force a new shape and save to disk\n",
    "def display_image(image_to_display,image_size, tilechain_list):\n",
    "    # load the image\n",
    "    my_image = Image.open(image_to_display)\n",
    "    # report the size of the image\n",
    "    #print(my_image.size)\n",
    "    # resize image and ignore original aspect ratio\n",
    "    img_resized = my_image.resize(image_size)\n",
    "    #changing the file extension from jpg to png changes output brightness. You might need to play with this. \n",
    "    img_resized.save('./images/resized_image.png')\n",
    "    data = image.imread('./images/resized_image.png')\n",
    "    target_tcs = []\n",
    "    for row in data:\n",
    "        temp_row = []\n",
    "        for pixel in row:\n",
    "            temp_row.append(RGBtoHSBK(pixel))\n",
    "        target_tcs.append(temp_row)\n",
    "    #print (\"length of target_tcs is \" + str(len(target_tcs)))\n",
    "    tcsplit = tiles.split_tilechains(target_tcs)\n",
    "    #print (\"legnth of tcssplit is \" + str(len(tcsplit)))\n",
    "    #print (\"length tilelist is \" + str(len(tilechain_list)))\n",
    "    for tile in range(len(tilechain_list)):\n",
    "        print (tile)\n",
    "        tilechain_list[tile].set_tilechain_colors(tiles.split_combined_matrix(tcsplit[tile]),rapid=True)\n",
    "    \n",
    "        \n",
    "if __name__ == \"__main__\":\n",
    "    main()"
   ]
  },
  {
   "cell_type": "code",
   "execution_count": null,
   "metadata": {},
   "outputs": [],
   "source": []
  }
 ],
 "metadata": {
  "kernelspec": {
   "display_name": "Python 3",
   "language": "python",
   "name": "python3"
  },
  "language_info": {
   "codemirror_mode": {
    "name": "ipython",
    "version": 3
   },
   "file_extension": ".py",
   "mimetype": "text/x-python",
   "name": "python",
   "nbconvert_exporter": "python",
   "pygments_lexer": "ipython3",
   "version": "3.7.3"
  }
 },
 "nbformat": 4,
 "nbformat_minor": 4
}
