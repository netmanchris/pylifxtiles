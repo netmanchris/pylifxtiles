{
 "cells": [
  {
   "cell_type": "markdown",
   "metadata": {},
   "source": [
    "# Description\n",
    "\n",
    "This notebook documents allows the following on a group four LIFX Tilechain with 5 Tiles\n",
    "laid out horizontaly as following\n",
    "\n",
    "\n",
    "T1 [0]  [1]  [2] [3] [4]\n",
    "\n",
    "T2 [0]  [1]  [2] [3] [4]\n",
    "\n",
    "T3 [0]  [1]  [2] [3] [4]\n",
    "\n",
    "T4 [0]  [1]  [2] [3] [4]\n",
    "\n",
    "Care should be taken to ensure that the LIFX Tiles are all facing up to ensure that the 0,0 position is in the expected place. \n",
    "\n",
    "Program will perform the following\n",
    "\n",
    "- take a folder which contains jpg or png located in the same folder as the notebook and create a image to display across all 4 tilechains or 20 tiles for each jpg/png in the folder in alphanumeric (sorted) order.  Image will be reduced from original size to a 32x40 matrix so resolution will not be great. You've been warned.\n",
    "\n"
   ]
  },
  {
   "cell_type": "code",
   "execution_count": 1,
   "metadata": {},
   "outputs": [
    {
     "ename": "KeyboardInterrupt",
     "evalue": "",
     "output_type": "error",
     "traceback": [
      "\u001b[0;31m---------------------------------------------------------------------------\u001b[0m",
      "\u001b[0;31mKeyboardInterrupt\u001b[0m                         Traceback (most recent call last)",
      "\u001b[0;32m<ipython-input-1-00bdb90d8c74>\u001b[0m in \u001b[0;36m<module>\u001b[0;34m\u001b[0m\n\u001b[1;32m     86\u001b[0m \u001b[0;34m\u001b[0m\u001b[0m\n\u001b[1;32m     87\u001b[0m \u001b[0;32mif\u001b[0m \u001b[0m__name__\u001b[0m \u001b[0;34m==\u001b[0m \u001b[0;34m\"__main__\"\u001b[0m\u001b[0;34m:\u001b[0m\u001b[0;34m\u001b[0m\u001b[0;34m\u001b[0m\u001b[0m\n\u001b[0;32m---> 88\u001b[0;31m     \u001b[0mmain\u001b[0m\u001b[0;34m(\u001b[0m\u001b[0;34m)\u001b[0m\u001b[0;34m\u001b[0m\u001b[0;34m\u001b[0m\u001b[0m\n\u001b[0m",
      "\u001b[0;32m<ipython-input-1-00bdb90d8c74>\u001b[0m in \u001b[0;36mmain\u001b[0;34m()\u001b[0m\n\u001b[1;32m     20\u001b[0m \u001b[0;32mdef\u001b[0m \u001b[0mmain\u001b[0m\u001b[0;34m(\u001b[0m\u001b[0;34m)\u001b[0m\u001b[0;34m:\u001b[0m\u001b[0;34m\u001b[0m\u001b[0;34m\u001b[0m\u001b[0m\n\u001b[1;32m     21\u001b[0m     \u001b[0mlan\u001b[0m \u001b[0;34m=\u001b[0m \u001b[0mLifxLAN\u001b[0m\u001b[0;34m(\u001b[0m\u001b[0;34m)\u001b[0m\u001b[0;34m\u001b[0m\u001b[0;34m\u001b[0m\u001b[0m\n\u001b[0;32m---> 22\u001b[0;31m     \u001b[0mtilechain_lights\u001b[0m \u001b[0;34m=\u001b[0m \u001b[0mlan\u001b[0m\u001b[0;34m.\u001b[0m\u001b[0mget_tilechain_lights\u001b[0m\u001b[0;34m(\u001b[0m\u001b[0;34m)\u001b[0m\u001b[0;34m\u001b[0m\u001b[0;34m\u001b[0m\u001b[0m\n\u001b[0m\u001b[1;32m     23\u001b[0m     \u001b[0mprint\u001b[0m\u001b[0;34m(\u001b[0m\u001b[0mlen\u001b[0m\u001b[0;34m(\u001b[0m\u001b[0mtilechain_lights\u001b[0m\u001b[0;34m)\u001b[0m\u001b[0;34m)\u001b[0m\u001b[0;34m\u001b[0m\u001b[0;34m\u001b[0m\u001b[0m\n\u001b[1;32m     24\u001b[0m     \u001b[0;32mif\u001b[0m \u001b[0mlen\u001b[0m\u001b[0;34m(\u001b[0m\u001b[0mtilechain_lights\u001b[0m\u001b[0;34m)\u001b[0m \u001b[0;34m!=\u001b[0m \u001b[0;36m0\u001b[0m\u001b[0;34m:\u001b[0m\u001b[0;34m\u001b[0m\u001b[0;34m\u001b[0m\u001b[0m\n",
      "\u001b[0;32m~/PycharmProjects/netmanchrisLIFXTilesPrivate/venv/lib/python3.7/site-packages/lifxlan/lifxlan.py\u001b[0m in \u001b[0;36mget_tilechain_lights\u001b[0;34m(self)\u001b[0m\n\u001b[1;32m     92\u001b[0m     \u001b[0;32mdef\u001b[0m \u001b[0mget_tilechain_lights\u001b[0m\u001b[0;34m(\u001b[0m\u001b[0mself\u001b[0m\u001b[0;34m)\u001b[0m\u001b[0;34m:\u001b[0m\u001b[0;34m\u001b[0m\u001b[0;34m\u001b[0m\u001b[0m\n\u001b[1;32m     93\u001b[0m         \u001b[0mchain_lights\u001b[0m \u001b[0;34m=\u001b[0m \u001b[0;34m[\u001b[0m\u001b[0;34m]\u001b[0m\u001b[0;34m\u001b[0m\u001b[0;34m\u001b[0m\u001b[0m\n\u001b[0;32m---> 94\u001b[0;31m         \u001b[0mall_lights\u001b[0m \u001b[0;34m=\u001b[0m \u001b[0mself\u001b[0m\u001b[0;34m.\u001b[0m\u001b[0mget_lights\u001b[0m\u001b[0;34m(\u001b[0m\u001b[0;34m)\u001b[0m\u001b[0;34m\u001b[0m\u001b[0;34m\u001b[0m\u001b[0m\n\u001b[0m\u001b[1;32m     95\u001b[0m         \u001b[0;32mfor\u001b[0m \u001b[0ml\u001b[0m \u001b[0;32min\u001b[0m \u001b[0mall_lights\u001b[0m\u001b[0;34m:\u001b[0m\u001b[0;34m\u001b[0m\u001b[0;34m\u001b[0m\u001b[0m\n\u001b[1;32m     96\u001b[0m             \u001b[0;32mif\u001b[0m \u001b[0ml\u001b[0m\u001b[0;34m.\u001b[0m\u001b[0msupports_chain\u001b[0m\u001b[0;34m(\u001b[0m\u001b[0;34m)\u001b[0m\u001b[0;34m:\u001b[0m\u001b[0;34m\u001b[0m\u001b[0;34m\u001b[0m\u001b[0m\n",
      "\u001b[0;32m~/PycharmProjects/netmanchrisLIFXTilesPrivate/venv/lib/python3.7/site-packages/lifxlan/lifxlan.py\u001b[0m in \u001b[0;36mget_lights\u001b[0;34m(self)\u001b[0m\n\u001b[1;32m     40\u001b[0m \u001b[0;34m\u001b[0m\u001b[0m\n\u001b[1;32m     41\u001b[0m     \u001b[0;32mdef\u001b[0m \u001b[0mget_lights\u001b[0m\u001b[0;34m(\u001b[0m\u001b[0mself\u001b[0m\u001b[0;34m)\u001b[0m\u001b[0;34m:\u001b[0m\u001b[0;34m\u001b[0m\u001b[0;34m\u001b[0m\u001b[0m\n\u001b[0;32m---> 42\u001b[0;31m         \u001b[0mself\u001b[0m\u001b[0;34m.\u001b[0m\u001b[0mdiscover_devices\u001b[0m\u001b[0;34m(\u001b[0m\u001b[0;34m)\u001b[0m\u001b[0;34m\u001b[0m\u001b[0;34m\u001b[0m\u001b[0m\n\u001b[0m\u001b[1;32m     43\u001b[0m         \u001b[0;32mreturn\u001b[0m \u001b[0mself\u001b[0m\u001b[0;34m.\u001b[0m\u001b[0mlights\u001b[0m\u001b[0;34m\u001b[0m\u001b[0;34m\u001b[0m\u001b[0m\n\u001b[1;32m     44\u001b[0m \u001b[0;34m\u001b[0m\u001b[0m\n",
      "\u001b[0;32m~/PycharmProjects/netmanchrisLIFXTilesPrivate/venv/lib/python3.7/site-packages/lifxlan/lifxlan.py\u001b[0m in \u001b[0;36mdiscover_devices\u001b[0;34m(self)\u001b[0m\n\u001b[1;32m     52\u001b[0m             \u001b[0mdevice\u001b[0m \u001b[0;34m=\u001b[0m \u001b[0mDevice\u001b[0m\u001b[0;34m(\u001b[0m\u001b[0mr\u001b[0m\u001b[0;34m.\u001b[0m\u001b[0mtarget_addr\u001b[0m\u001b[0;34m,\u001b[0m \u001b[0mr\u001b[0m\u001b[0;34m.\u001b[0m\u001b[0mip_addr\u001b[0m\u001b[0;34m,\u001b[0m \u001b[0mr\u001b[0m\u001b[0;34m.\u001b[0m\u001b[0mservice\u001b[0m\u001b[0;34m,\u001b[0m \u001b[0mr\u001b[0m\u001b[0;34m.\u001b[0m\u001b[0mport\u001b[0m\u001b[0;34m,\u001b[0m \u001b[0mself\u001b[0m\u001b[0;34m.\u001b[0m\u001b[0msource_id\u001b[0m\u001b[0;34m,\u001b[0m \u001b[0mself\u001b[0m\u001b[0;34m.\u001b[0m\u001b[0mverbose\u001b[0m\u001b[0;34m)\u001b[0m\u001b[0;34m\u001b[0m\u001b[0;34m\u001b[0m\u001b[0m\n\u001b[1;32m     53\u001b[0m             \u001b[0;32mtry\u001b[0m\u001b[0;34m:\u001b[0m\u001b[0;34m\u001b[0m\u001b[0;34m\u001b[0m\u001b[0m\n\u001b[0;32m---> 54\u001b[0;31m                 \u001b[0;32mif\u001b[0m \u001b[0mdevice\u001b[0m\u001b[0;34m.\u001b[0m\u001b[0mis_light\u001b[0m\u001b[0;34m(\u001b[0m\u001b[0;34m)\u001b[0m\u001b[0;34m:\u001b[0m\u001b[0;34m\u001b[0m\u001b[0;34m\u001b[0m\u001b[0m\n\u001b[0m\u001b[1;32m     55\u001b[0m                     \u001b[0;32mif\u001b[0m \u001b[0mdevice\u001b[0m\u001b[0;34m.\u001b[0m\u001b[0msupports_multizone\u001b[0m\u001b[0;34m(\u001b[0m\u001b[0;34m)\u001b[0m\u001b[0;34m:\u001b[0m\u001b[0;34m\u001b[0m\u001b[0;34m\u001b[0m\u001b[0m\n\u001b[1;32m     56\u001b[0m                         \u001b[0mdevice\u001b[0m \u001b[0;34m=\u001b[0m \u001b[0mMultiZoneLight\u001b[0m\u001b[0;34m(\u001b[0m\u001b[0mr\u001b[0m\u001b[0;34m.\u001b[0m\u001b[0mtarget_addr\u001b[0m\u001b[0;34m,\u001b[0m \u001b[0mr\u001b[0m\u001b[0;34m.\u001b[0m\u001b[0mip_addr\u001b[0m\u001b[0;34m,\u001b[0m \u001b[0mr\u001b[0m\u001b[0;34m.\u001b[0m\u001b[0mservice\u001b[0m\u001b[0;34m,\u001b[0m \u001b[0mr\u001b[0m\u001b[0;34m.\u001b[0m\u001b[0mport\u001b[0m\u001b[0;34m,\u001b[0m \u001b[0mself\u001b[0m\u001b[0;34m.\u001b[0m\u001b[0msource_id\u001b[0m\u001b[0;34m,\u001b[0m \u001b[0mself\u001b[0m\u001b[0;34m.\u001b[0m\u001b[0mverbose\u001b[0m\u001b[0;34m)\u001b[0m\u001b[0;34m\u001b[0m\u001b[0;34m\u001b[0m\u001b[0m\n",
      "\u001b[0;32m~/PycharmProjects/netmanchrisLIFXTilesPrivate/venv/lib/python3.7/site-packages/lifxlan/device.py\u001b[0m in \u001b[0;36mis_light\u001b[0;34m(self)\u001b[0m\n\u001b[1;32m    358\u001b[0m     \u001b[0;32mdef\u001b[0m \u001b[0mis_light\u001b[0m\u001b[0;34m(\u001b[0m\u001b[0mself\u001b[0m\u001b[0;34m)\u001b[0m\u001b[0;34m:\u001b[0m\u001b[0;34m\u001b[0m\u001b[0;34m\u001b[0m\u001b[0m\n\u001b[1;32m    359\u001b[0m         \u001b[0;32mif\u001b[0m \u001b[0mself\u001b[0m\u001b[0;34m.\u001b[0m\u001b[0mproduct\u001b[0m \u001b[0;34m==\u001b[0m \u001b[0;32mNone\u001b[0m\u001b[0;34m:\u001b[0m\u001b[0;34m\u001b[0m\u001b[0;34m\u001b[0m\u001b[0m\n\u001b[0;32m--> 360\u001b[0;31m             \u001b[0mself\u001b[0m\u001b[0;34m.\u001b[0m\u001b[0mvendor\u001b[0m\u001b[0;34m,\u001b[0m \u001b[0mself\u001b[0m\u001b[0;34m.\u001b[0m\u001b[0mproduct\u001b[0m\u001b[0;34m,\u001b[0m \u001b[0mself\u001b[0m\u001b[0;34m.\u001b[0m\u001b[0mversion\u001b[0m \u001b[0;34m=\u001b[0m \u001b[0mself\u001b[0m\u001b[0;34m.\u001b[0m\u001b[0mget_version_tuple\u001b[0m\u001b[0;34m(\u001b[0m\u001b[0;34m)\u001b[0m\u001b[0;34m\u001b[0m\u001b[0;34m\u001b[0m\u001b[0m\n\u001b[0m\u001b[1;32m    361\u001b[0m         \u001b[0;32mreturn\u001b[0m \u001b[0mself\u001b[0m\u001b[0;34m.\u001b[0m\u001b[0mproduct\u001b[0m \u001b[0;32min\u001b[0m \u001b[0mlight_products\u001b[0m\u001b[0;34m\u001b[0m\u001b[0;34m\u001b[0m\u001b[0m\n\u001b[1;32m    362\u001b[0m \u001b[0;34m\u001b[0m\u001b[0m\n",
      "\u001b[0;32m~/PycharmProjects/netmanchrisLIFXTilesPrivate/venv/lib/python3.7/site-packages/lifxlan/device.py\u001b[0m in \u001b[0;36mget_version_tuple\u001b[0;34m(self)\u001b[0m\n\u001b[1;32m    257\u001b[0m         \u001b[0mversion\u001b[0m \u001b[0;34m=\u001b[0m \u001b[0;32mNone\u001b[0m\u001b[0;34m\u001b[0m\u001b[0;34m\u001b[0m\u001b[0m\n\u001b[1;32m    258\u001b[0m         \u001b[0;32mtry\u001b[0m\u001b[0;34m:\u001b[0m\u001b[0;34m\u001b[0m\u001b[0;34m\u001b[0m\u001b[0m\n\u001b[0;32m--> 259\u001b[0;31m             \u001b[0mresponse\u001b[0m \u001b[0;34m=\u001b[0m \u001b[0mself\u001b[0m\u001b[0;34m.\u001b[0m\u001b[0mreq_with_resp\u001b[0m\u001b[0;34m(\u001b[0m\u001b[0mGetVersion\u001b[0m\u001b[0;34m,\u001b[0m \u001b[0mStateVersion\u001b[0m\u001b[0;34m)\u001b[0m\u001b[0;34m\u001b[0m\u001b[0;34m\u001b[0m\u001b[0m\n\u001b[0m\u001b[1;32m    260\u001b[0m             \u001b[0mvendor\u001b[0m \u001b[0;34m=\u001b[0m \u001b[0mresponse\u001b[0m\u001b[0;34m.\u001b[0m\u001b[0mvendor\u001b[0m\u001b[0;34m\u001b[0m\u001b[0;34m\u001b[0m\u001b[0m\n\u001b[1;32m    261\u001b[0m             \u001b[0mproduct\u001b[0m \u001b[0;34m=\u001b[0m \u001b[0mresponse\u001b[0m\u001b[0;34m.\u001b[0m\u001b[0mproduct\u001b[0m\u001b[0;34m\u001b[0m\u001b[0;34m\u001b[0m\u001b[0m\n",
      "\u001b[0;32m~/PycharmProjects/netmanchrisLIFXTilesPrivate/venv/lib/python3.7/site-packages/lifxlan/device.py\u001b[0m in \u001b[0;36mreq_with_resp\u001b[0;34m(self, msg_type, response_type, payload, timeout_secs, max_attempts)\u001b[0m\n\u001b[1;32m    507\u001b[0m                         \u001b[0mprint\u001b[0m\u001b[0;34m(\u001b[0m\u001b[0;34m\"SEND: \"\u001b[0m \u001b[0;34m+\u001b[0m \u001b[0mstr\u001b[0m\u001b[0;34m(\u001b[0m\u001b[0mmsg\u001b[0m\u001b[0;34m)\u001b[0m\u001b[0;34m)\u001b[0m\u001b[0;34m\u001b[0m\u001b[0;34m\u001b[0m\u001b[0m\n\u001b[1;32m    508\u001b[0m                 \u001b[0;32mtry\u001b[0m\u001b[0;34m:\u001b[0m\u001b[0;34m\u001b[0m\u001b[0;34m\u001b[0m\u001b[0m\n\u001b[0;32m--> 509\u001b[0;31m                     \u001b[0mdata\u001b[0m\u001b[0;34m,\u001b[0m \u001b[0;34m(\u001b[0m\u001b[0mip_addr\u001b[0m\u001b[0;34m,\u001b[0m \u001b[0mport\u001b[0m\u001b[0;34m)\u001b[0m \u001b[0;34m=\u001b[0m \u001b[0msock\u001b[0m\u001b[0;34m.\u001b[0m\u001b[0mrecvfrom\u001b[0m\u001b[0;34m(\u001b[0m\u001b[0;36m1024\u001b[0m\u001b[0;34m)\u001b[0m\u001b[0;34m\u001b[0m\u001b[0;34m\u001b[0m\u001b[0m\n\u001b[0m\u001b[1;32m    510\u001b[0m                     \u001b[0mresponse\u001b[0m \u001b[0;34m=\u001b[0m \u001b[0munpack_lifx_message\u001b[0m\u001b[0;34m(\u001b[0m\u001b[0mdata\u001b[0m\u001b[0;34m)\u001b[0m\u001b[0;34m\u001b[0m\u001b[0;34m\u001b[0m\u001b[0m\n\u001b[1;32m    511\u001b[0m                     \u001b[0;32mif\u001b[0m \u001b[0mself\u001b[0m\u001b[0;34m.\u001b[0m\u001b[0mverbose\u001b[0m\u001b[0;34m:\u001b[0m\u001b[0;34m\u001b[0m\u001b[0;34m\u001b[0m\u001b[0m\n",
      "\u001b[0;31mKeyboardInterrupt\u001b[0m: "
     ]
    }
   ],
   "source": [
    "#Main Program for Convert Single Image to Tiles\n",
    "\n",
    "# Full running function with all dependencies\n",
    "#imports RGB to HSBK conversion function from LIFX LAN library\n",
    "import os\n",
    "from lifxlan import LifxLAN\n",
    "from lifxlan.utils import RGBtoHSBK\n",
    "from pylifxtiles import tiles\n",
    "from pylifxtiles import actions\n",
    "from matplotlib import image\n",
    "from PIL import Image\n",
    "from time import sleep\n",
    "\n",
    "\n",
    "# modify this variable to the name of the specific LIFX Tilechain as shown in the LIFX app\n",
    "\n",
    "source_folder = './images/starwars/'\n",
    "\n",
    "\n",
    "def main():\n",
    "    lan = LifxLAN()\n",
    "    tilechain_lights = lan.get_tilechain_lights()\n",
    "    print(len(tilechain_lights))\n",
    "    if len(tilechain_lights) != 0:\n",
    "        for tile in tilechain_lights:\n",
    "            if tile.get_label()  ==  'T1':\n",
    "                print(tile.get_label())\n",
    "                T1 = tile\n",
    "            if tile.get_label()  =='T2':\n",
    "                print(tile.get_label())\n",
    "                T2 = tile\n",
    "            if tile.get_label()  == 'T3':\n",
    "                print(tile.get_label())\n",
    "                T3 = tile\n",
    "            if tile.get_label()  == 'T4':\n",
    "                print(tile.get_label())\n",
    "                T4 = tile\n",
    "            if tile.get_label()  == 'T5':\n",
    "                print(tile.get_label())\n",
    "                T5 = tile\n",
    "            if tile.get_label()  == 'T6':\n",
    "                print(tile.get_label())\n",
    "                T6 = tile\n",
    "            if tile.get_label()  == 'T7':\n",
    "                print(tile.get_label())\n",
    "                T7 = tile\n",
    "    tc_list = [ T1, T2, T3, T4, T5, T6, T7]\n",
    "    try:\n",
    "        my_images = os.listdir(source_folder)\n",
    "        my_images.sort()\n",
    "        while(True):\n",
    "            for image in my_images:\n",
    "                print (source_folder+image)\n",
    "                display_image((source_folder+image), tc_list)\n",
    "                #sleep(5)\n",
    "    except KeyboardInterrupt:\n",
    "        print(\"Done.\")\n",
    "\n",
    "\n",
    "\n",
    "\n",
    "#combined function\n",
    "\n",
    "# resize image and force a new shape and save to disk\n",
    "def display_image(image_to_display, tilechain_list):\n",
    "    # load the image\n",
    "    my_image = Image.open(image_to_display)\n",
    "    # report the size of the image\n",
    "    #print(my_image.size)\n",
    "    # resize image and ignore original aspect ratio\n",
    "    img_resized = my_image.resize((40,56))\n",
    "    #changing the file extension from jpg to png changes output brightness. You might need to play with this. \n",
    "    img_resized.save('./images/resized_image.jpg')\n",
    "    data = image.imread('./images/resized_image.jpg')\n",
    "    target_tcs = []\n",
    "    for row in data:\n",
    "        temp_row = []\n",
    "        for pixel in row:\n",
    "            temp_row.append(RGBtoHSBK(pixel))\n",
    "        target_tcs.append(temp_row)\n",
    "    tcsplit = tiles.split_tilechains(target_tcs)\n",
    "    for tile in range(len(tilechain_list)):\n",
    "        print (tile)\n",
    "        tilechain_list[tile].set_tilechain_colors(tiles.split_combined_matrix(tcsplit[tile]))\n",
    "        tilechain_list[tile].set_tilechain_colors(tiles.split_combined_matrix(tcsplit[tile]))\n",
    "        \n",
    "if __name__ == \"__main__\":\n",
    "    main()"
   ]
  },
  {
   "cell_type": "code",
   "execution_count": 19,
   "metadata": {},
   "outputs": [],
   "source": [
    "source_folder = './images/starwars/'"
   ]
  },
  {
   "cell_type": "code",
   "execution_count": 22,
   "metadata": {},
   "outputs": [],
   "source": [
    "my_images = os.listdir(source_folder)"
   ]
  },
  {
   "cell_type": "code",
   "execution_count": 23,
   "metadata": {},
   "outputs": [
    {
     "data": {
      "text/plain": [
       "['448348d741e3c0e0098d922728f40a9a--perso-cool-art.jpg',\n",
       " 'ea655400eb5d7f14a1cf385024fc68f0.jpg',\n",
       " '0db7dc70f068834614334b8a67d99200.jpg',\n",
       " 'd5dc75f94e343e27c701d200cb5c2c05.jpg',\n",
       " 'aaa7642490480333210be9bb922ede62.jpg',\n",
       " '52404c1961506d5d8fd2c50e9ec015db.jpg',\n",
       " '51a04ce923e4810c938cf3b5b89e16b7--vector-portrait-star-wars-cpo.jpg',\n",
       " '8d0afa9a26ea926cc13d54996b8bc5e6.jpg',\n",
       " '8187809932c15a1b3990c1dbbcba7c93.jpg',\n",
       " 'd6a5de98939b20736ac9d50afdc26f1d--vol--tribute.jpg',\n",
       " '15652860f17b0de3a9fce3addfc4bccd.jpg',\n",
       " '6792726101cd9d00fad37e5420d7044a.jpg',\n",
       " '4702aac17eb05fce26e7f32d7a50a23c.jpg',\n",
       " 'e9929365c0e3baf98b95656bbf964180.jpg']"
      ]
     },
     "execution_count": 23,
     "metadata": {},
     "output_type": "execute_result"
    }
   ],
   "source": [
    "my_images"
   ]
  },
  {
   "cell_type": "code",
   "execution_count": 24,
   "metadata": {},
   "outputs": [
    {
     "name": "stdout",
     "output_type": "stream",
     "text": [
      "./images/starwars/448348d741e3c0e0098d922728f40a9a--perso-cool-art.jpg\n",
      "./images/starwars/ea655400eb5d7f14a1cf385024fc68f0.jpg\n",
      "./images/starwars/0db7dc70f068834614334b8a67d99200.jpg\n",
      "./images/starwars/d5dc75f94e343e27c701d200cb5c2c05.jpg\n",
      "./images/starwars/aaa7642490480333210be9bb922ede62.jpg\n",
      "./images/starwars/52404c1961506d5d8fd2c50e9ec015db.jpg\n",
      "./images/starwars/51a04ce923e4810c938cf3b5b89e16b7--vector-portrait-star-wars-cpo.jpg\n",
      "./images/starwars/8d0afa9a26ea926cc13d54996b8bc5e6.jpg\n",
      "./images/starwars/8187809932c15a1b3990c1dbbcba7c93.jpg\n",
      "./images/starwars/d6a5de98939b20736ac9d50afdc26f1d--vol--tribute.jpg\n",
      "./images/starwars/15652860f17b0de3a9fce3addfc4bccd.jpg\n",
      "./images/starwars/6792726101cd9d00fad37e5420d7044a.jpg\n",
      "./images/starwars/4702aac17eb05fce26e7f32d7a50a23c.jpg\n",
      "./images/starwars/e9929365c0e3baf98b95656bbf964180.jpg\n"
     ]
    }
   ],
   "source": [
    "for image in my_images:\n",
    "            print (source_folder+image)"
   ]
  },
  {
   "cell_type": "code",
   "execution_count": null,
   "metadata": {},
   "outputs": [],
   "source": []
  }
 ],
 "metadata": {
  "kernelspec": {
   "display_name": "Python 3",
   "language": "python",
   "name": "python3"
  },
  "language_info": {
   "codemirror_mode": {
    "name": "ipython",
    "version": 3
   },
   "file_extension": ".py",
   "mimetype": "text/x-python",
   "name": "python",
   "nbconvert_exporter": "python",
   "pygments_lexer": "ipython3",
   "version": "3.7.3"
  }
 },
 "nbformat": 4,
 "nbformat_minor": 4
}
