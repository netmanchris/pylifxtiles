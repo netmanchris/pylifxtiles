{
 "cells": [
  {
   "cell_type": "markdown",
   "metadata": {},
   "source": [
    "# Purpose\n",
    "\n",
    "Notebook serves to document converting colors definition of a single Tile and convert to a 8x8 matrix to set the stage for further matrix manipulation.\n",
    "\n"
   ]
  },
  {
   "cell_type": "code",
   "execution_count": 3,
   "metadata": {},
   "outputs": [
    {
     "data": {
      "text/plain": [
       "17"
      ]
     },
     "execution_count": 3,
     "metadata": {},
     "output_type": "execute_result"
    }
   ],
   "source": [
    "#import LIFxLAN object and get all LIFX lights and assign to lifx object\n",
    "from lifxlan import LifxLAN\n",
    "lifx = LifxLAN(30)\n",
    "tilechain_lights = lifx.get_tilechain_lights()\n",
    "len(tilechain_lights)"
   ]
  },
  {
   "cell_type": "code",
   "execution_count": 4,
   "metadata": {},
   "outputs": [
    {
     "data": {
      "text/plain": [
       "<lifxlan.tilechain.TileChain at 0x1060160f0>"
      ]
     },
     "execution_count": 4,
     "metadata": {},
     "output_type": "execute_result"
    }
   ],
   "source": [
    "#import LIFxLAN object and get all LIFX lights and assign to lifx object\n",
    "from lifxlan import LifxLAN\n",
    "lifx = LifxLAN(30)\n",
    "tilechain_lights = lifx.get_tilechain_lights()\n",
    "len(tilechain_lights)\n",
    "#Print out the list of LIFX Tile lights to find the one we're looking for\n",
    "#TODO Should write a helper function that finds the right light and automatically assigns it to a variable\n",
    "canvas = ['T1', 'T2', 'T3', 'T4']\n",
    "for tile in tilechain_lights:\n",
    "    if tile.get_label()  ==  'T1':\n",
    "    #if tile.get_label() == 'TEST':\n",
    "        T1 = tile\n",
    "    if tile.get_label()  =='T2':\n",
    "    #if tile.get_label() == 'TEST':\n",
    "        T2 = tile\n",
    "    if tile.get_label()  == 'T3':\n",
    "    #if tile.get_label() == 'TEST':\n",
    "        T3 = tile\n",
    "    if tile.get_label()  == 'T4':\n",
    "    #if tile.get_label() == 'TEST':\n",
    "        T4 = tile\n",
    "    if tile.get_label()  == 'LR1':\n",
    "    #if tile.get_label() == 'TEST':\n",
    "        LR = tile\n",
    "test_tile = T2"
   ]
  },
  {
   "cell_type": "code",
   "execution_count": 19,
   "metadata": {},
   "outputs": [
    {
     "ename": "WorkflowException",
     "evalue": "WorkflowException: Did not receive [<class 'lifxlan.msgtypes.StateTileState64'>] from d0:73:d5:3c:4d:93 (Name: T2) in response to <class 'lifxlan.msgtypes.GetTileState64'>",
     "output_type": "error",
     "traceback": [
      "\u001b[0;31m---------------------------------------------------------------------------\u001b[0m",
      "\u001b[0;31mWorkflowException\u001b[0m                         Traceback (most recent call last)",
      "\u001b[0;32m<ipython-input-19-643ae045c572>\u001b[0m in \u001b[0;36m<module>\u001b[0;34m\u001b[0m\n\u001b[1;32m     79\u001b[0m \u001b[0;34m\u001b[0m\u001b[0m\n\u001b[1;32m     80\u001b[0m \u001b[0;32mif\u001b[0m \u001b[0m__name__\u001b[0m\u001b[0;34m==\u001b[0m\u001b[0;34m\"__main__\"\u001b[0m\u001b[0;34m:\u001b[0m\u001b[0;34m\u001b[0m\u001b[0;34m\u001b[0m\u001b[0m\n\u001b[0;32m---> 81\u001b[0;31m     \u001b[0mmain\u001b[0m\u001b[0;34m(\u001b[0m\u001b[0;34m)\u001b[0m\u001b[0;34m\u001b[0m\u001b[0;34m\u001b[0m\u001b[0m\n\u001b[0m",
      "\u001b[0;32m<ipython-input-19-643ae045c572>\u001b[0m in \u001b[0;36mmain\u001b[0;34m()\u001b[0m\n\u001b[1;32m     43\u001b[0m                 \u001b[0mtile0\u001b[0m \u001b[0;34m=\u001b[0m \u001b[0mT2\u001b[0m\u001b[0;34m.\u001b[0m\u001b[0mget_tile_colors\u001b[0m\u001b[0;34m(\u001b[0m\u001b[0;36m0\u001b[0m\u001b[0;34m)\u001b[0m\u001b[0;34m[\u001b[0m\u001b[0;36m0\u001b[0m\u001b[0;34m]\u001b[0m\u001b[0;34m\u001b[0m\u001b[0;34m\u001b[0m\u001b[0m\n\u001b[1;32m     44\u001b[0m                 \u001b[0mtile1\u001b[0m \u001b[0;34m=\u001b[0m \u001b[0mT2\u001b[0m\u001b[0;34m.\u001b[0m\u001b[0mget_tile_colors\u001b[0m\u001b[0;34m(\u001b[0m\u001b[0;36m1\u001b[0m\u001b[0;34m)\u001b[0m\u001b[0;34m[\u001b[0m\u001b[0;36m0\u001b[0m\u001b[0;34m]\u001b[0m\u001b[0;34m\u001b[0m\u001b[0;34m\u001b[0m\u001b[0m\n\u001b[0;32m---> 45\u001b[0;31m                 \u001b[0mtile3\u001b[0m \u001b[0;34m=\u001b[0m \u001b[0mT2\u001b[0m\u001b[0;34m.\u001b[0m\u001b[0mget_tile_colors\u001b[0m\u001b[0;34m(\u001b[0m\u001b[0;36m3\u001b[0m\u001b[0;34m)\u001b[0m\u001b[0;34m[\u001b[0m\u001b[0;36m0\u001b[0m\u001b[0;34m]\u001b[0m\u001b[0;34m\u001b[0m\u001b[0;34m\u001b[0m\u001b[0m\n\u001b[0m\u001b[1;32m     46\u001b[0m                 \u001b[0mtile4\u001b[0m \u001b[0;34m=\u001b[0m \u001b[0mT2\u001b[0m\u001b[0;34m.\u001b[0m\u001b[0mget_tile_colors\u001b[0m\u001b[0;34m(\u001b[0m\u001b[0;36m4\u001b[0m\u001b[0;34m)\u001b[0m\u001b[0;34m[\u001b[0m\u001b[0;36m0\u001b[0m\u001b[0;34m]\u001b[0m\u001b[0;34m\u001b[0m\u001b[0;34m\u001b[0m\u001b[0m\n\u001b[1;32m     47\u001b[0m \u001b[0;34m\u001b[0m\u001b[0m\n",
      "\u001b[0;32m~/PycharmProjects/LIFXTilesProject/venv/lib/python3.7/site-packages/lifxlan/tilechain.py\u001b[0m in \u001b[0;36mget_tile_colors\u001b[0;34m(self, start_index, tile_count, x, y, width)\u001b[0m\n\u001b[1;32m     47\u001b[0m                        \u001b[0;34m\"y\"\u001b[0m\u001b[0;34m:\u001b[0m \u001b[0my\u001b[0m\u001b[0;34m,\u001b[0m\u001b[0;34m\u001b[0m\u001b[0;34m\u001b[0m\u001b[0m\n\u001b[1;32m     48\u001b[0m                        \"width\": width}\n\u001b[0;32m---> 49\u001b[0;31m             \u001b[0mresponse\u001b[0m \u001b[0;34m=\u001b[0m \u001b[0mself\u001b[0m\u001b[0;34m.\u001b[0m\u001b[0mreq_with_resp\u001b[0m\u001b[0;34m(\u001b[0m\u001b[0mGetTileState64\u001b[0m\u001b[0;34m,\u001b[0m \u001b[0mStateTileState64\u001b[0m\u001b[0;34m,\u001b[0m \u001b[0mpayload\u001b[0m\u001b[0;34m)\u001b[0m\u001b[0;34m\u001b[0m\u001b[0;34m\u001b[0m\u001b[0m\n\u001b[0m\u001b[1;32m     50\u001b[0m             \u001b[0mcolors\u001b[0m\u001b[0;34m.\u001b[0m\u001b[0mappend\u001b[0m\u001b[0;34m(\u001b[0m\u001b[0mresponse\u001b[0m\u001b[0;34m.\u001b[0m\u001b[0mcolors\u001b[0m\u001b[0;34m)\u001b[0m\u001b[0;34m\u001b[0m\u001b[0;34m\u001b[0m\u001b[0m\n\u001b[1;32m     51\u001b[0m         \u001b[0;32mreturn\u001b[0m \u001b[0mcolors\u001b[0m\u001b[0;34m\u001b[0m\u001b[0;34m\u001b[0m\u001b[0m\n",
      "\u001b[0;32m~/PycharmProjects/LIFXTilesProject/venv/lib/python3.7/site-packages/lifxlan/device.py\u001b[0m in \u001b[0;36mreq_with_resp\u001b[0;34m(self, msg_type, response_type, payload, timeout_secs, max_attempts)\u001b[0m\n\u001b[1;32m    524\u001b[0m         \u001b[0;32mif\u001b[0m \u001b[0;32mnot\u001b[0m \u001b[0msuccess\u001b[0m\u001b[0;34m:\u001b[0m\u001b[0;34m\u001b[0m\u001b[0;34m\u001b[0m\u001b[0m\n\u001b[1;32m    525\u001b[0m             \u001b[0mself\u001b[0m\u001b[0;34m.\u001b[0m\u001b[0mclose_socket\u001b[0m\u001b[0;34m(\u001b[0m\u001b[0msocket_id\u001b[0m\u001b[0;34m)\u001b[0m\u001b[0;34m\u001b[0m\u001b[0;34m\u001b[0m\u001b[0m\n\u001b[0;32m--> 526\u001b[0;31m             \u001b[0;32mraise\u001b[0m \u001b[0mWorkflowException\u001b[0m\u001b[0;34m(\u001b[0m\u001b[0;34m\"WorkflowException: Did not receive {} from {} (Name: {}) in response to {}\"\u001b[0m\u001b[0;34m.\u001b[0m\u001b[0mformat\u001b[0m\u001b[0;34m(\u001b[0m\u001b[0mstr\u001b[0m\u001b[0;34m(\u001b[0m\u001b[0mresponse_type\u001b[0m\u001b[0;34m)\u001b[0m\u001b[0;34m,\u001b[0m \u001b[0mstr\u001b[0m\u001b[0;34m(\u001b[0m\u001b[0mself\u001b[0m\u001b[0;34m.\u001b[0m\u001b[0mmac_addr\u001b[0m\u001b[0;34m)\u001b[0m\u001b[0;34m,\u001b[0m \u001b[0mstr\u001b[0m\u001b[0;34m(\u001b[0m\u001b[0mself\u001b[0m\u001b[0;34m.\u001b[0m\u001b[0mlabel\u001b[0m\u001b[0;34m)\u001b[0m\u001b[0;34m,\u001b[0m \u001b[0mstr\u001b[0m\u001b[0;34m(\u001b[0m\u001b[0mmsg_type\u001b[0m\u001b[0;34m)\u001b[0m\u001b[0;34m)\u001b[0m\u001b[0;34m)\u001b[0m\u001b[0;34m\u001b[0m\u001b[0;34m\u001b[0m\u001b[0m\n\u001b[0m\u001b[1;32m    527\u001b[0m         \u001b[0;32melse\u001b[0m\u001b[0;34m:\u001b[0m\u001b[0;34m\u001b[0m\u001b[0;34m\u001b[0m\u001b[0m\n\u001b[1;32m    528\u001b[0m             \u001b[0mself\u001b[0m\u001b[0;34m.\u001b[0m\u001b[0mclose_socket\u001b[0m\u001b[0;34m(\u001b[0m\u001b[0msocket_id\u001b[0m\u001b[0;34m)\u001b[0m\u001b[0;34m\u001b[0m\u001b[0;34m\u001b[0m\u001b[0m\n",
      "\u001b[0;31mWorkflowException\u001b[0m: WorkflowException: Did not receive [<class 'lifxlan.msgtypes.StateTileState64'>] from d0:73:d5:3c:4d:93 (Name: T2) in response to <class 'lifxlan.msgtypes.GetTileState64'>"
     ]
    }
   ],
   "source": [
    "#Full running function with all dependencies\n",
    "from pylifxtiles import actions\n",
    "from pylifxtiles import objects\n",
    "from pylifxtiles import tiles\n",
    "from pylifxtiles.tiles import UP, DOWN, LEFT, RIGHT\n",
    "\n",
    "\n",
    "def main():\n",
    "    '''lan = LifxLAN()\n",
    "    tilechain_lights = lan.get_tilechain_lights()\n",
    "    if len(tilechain_lights) != 0:\n",
    "        for tile in tilechain_lights:\n",
    "            if tile.get_label()  ==  'T1':\n",
    "            #if tile.get_label() == 'TEST':\n",
    "                T1 = tile\n",
    "            if tile.get_label()  =='T2':\n",
    "            #if tile.get_label() == 'TEST':\n",
    "                T2 = tile\n",
    "            if tile.get_label()  == 'T3':\n",
    "            #if tile.get_label() == 'TEST':\n",
    "                T3 = tile\n",
    "            if tile.get_label()  == 'T4':\n",
    "            #if tile.get_label() == 'TEST':\n",
    "                T4 = tile\n",
    "            if tile.get_label()  == 'LR1':\n",
    "            #if tile.get_label() == 'TEST':\n",
    "                LR = tile'''\n",
    "    duration_ms = 1000\n",
    "    try:\n",
    "        original_colors = actions.reset_tiles(T2)\n",
    "        objects.draw_youtube(T2,1)\n",
    "        objects.draw_heart(T2,2)\n",
    "        run = 0\n",
    "        while(True):\n",
    "            objects.draw_youtube(T2,0)\n",
    "            objects.draw_heart(T2,1)\n",
    "            objects.draw_youtube(T2,3)\n",
    "            objects.draw_heart(T2,4)\n",
    "            objects.draw_heart(T2,2)\n",
    "            for i in range(16):\n",
    "                #step1 grab current state of both tiles\n",
    "                \n",
    "                tile0 = T2.get_tile_colors(0)[0]\n",
    "                tile1 = T2.get_tile_colors(1)[0]\n",
    "                tile3 = T2.get_tile_colors(3)[0]\n",
    "                tile4 = T2.get_tile_colors(4)[0]\n",
    "                \n",
    "                #step2 convert 1d 64 element list into 8x8 matrices\n",
    "                #tile1 = list(chunks(tile1,8)) #no longer required - built into combine_two_tiles functions\n",
    "                #tile2 = list(chunks(tile2,8)) #no longer required - built into combine_two_tiles functions\n",
    "                #step3 Combine into a single 8x16 matrix\n",
    "                combine01 = tiles.combine_two_tiles(tile0, tile1)\n",
    "                combine34 = tiles.combine_two_tiles(tile3, tile4)\n",
    "                #step4 shift matrix to the left\n",
    "                temp_matrix1=tiles.__shift(combine01,LEFT, 1)\n",
    "                temp_matrix2=tiles.__shift(combine34,LEFT, 1)\n",
    "                #temp_matrix=__shift(combine2,UP, 2)\n",
    "                #temp_matrix=shift(combine2,LEFT, 1)\n",
    "                #step5 split back into 2 8x8 matrices\n",
    "                split_list01 = tiles.split_combined_matrix(combine01)\n",
    "                split_list34 = tiles.split_combined_matrix(combine34)\n",
    "                #convert back to 1D list\n",
    "                #target_tile_color1 = reduce(add,split_list[0])\n",
    "                target_tile_color0 = tiles.matrix_to_map(split_list01[0])\n",
    "                target_tile_color1 = tiles.matrix_to_map(split_list01[1])\n",
    "                #target_tile_color2 = reduce(add,split_list[1])\n",
    "                target_tile_color3 = tiles.matrix_to_map(split_list34[0])\n",
    "                target_tile_color4 = tiles.matrix_to_map(split_list34[1])\n",
    "                #write back to source tile\n",
    "                T2.set_tile_colors(0,target_tile_color0, rapid=True)\n",
    "                T2.set_tile_colors(1,target_tile_color1, rapid=True)\n",
    "                T2.set_tile_colors(3,target_tile_color3, rapid=True)\n",
    "                T2.set_tile_colors(4,target_tile_color4, rapid=True)\n",
    "                tiles.rotate_image(T2,2,1)\n",
    "    except KeyboardInterrupt:\n",
    "        print(\"Done.\")\n",
    "    else:\n",
    "        print(\"No TileChain lights found.\")\n",
    "\n",
    "if __name__==\"__main__\":\n",
    "    main()"
   ]
  },
  {
   "cell_type": "code",
   "execution_count": 16,
   "metadata": {},
   "outputs": [],
   "source": []
  },
  {
   "cell_type": "code",
   "execution_count": 13,
   "metadata": {},
   "outputs": [],
   "source": [
    "#Function to convert 64 element list into 8x8 matrix \n",
    "#https://chrisalbon.com/python/data_wrangling/break_list_into_chunks_of_equal_size/\n",
    "def chunks(l, n=8):\n",
    "    # For item i in a range that is a length of l,\n",
    "    for i in range(0, len(l), n):\n",
    "        # Create an index range for l of n items:\n",
    "        yield l[i:i+n]"
   ]
  },
  {
   "cell_type": "code",
   "execution_count": 33,
   "metadata": {},
   "outputs": [],
   "source": [
    "#example of using chunks function  - https://chrisalbon.com/python/data_wrangling/break_list_into_chunks_of_equal_size/\n",
    "youtube_matrix = list(chunks(youtube,8))"
   ]
  },
  {
   "cell_type": "code",
   "execution_count": 37,
   "metadata": {},
   "outputs": [
    {
     "data": {
      "text/plain": [
       "8"
      ]
     },
     "execution_count": 37,
     "metadata": {},
     "output_type": "execute_result"
    }
   ],
   "source": [
    "len(youtube_matrix)"
   ]
  },
  {
   "cell_type": "code",
   "execution_count": 27,
   "metadata": {},
   "outputs": [],
   "source": [
    "#youtube_tile_definition\n",
    "youtube = [(42, 65535, 39868, 4900),\n",
    " (42, 65535, 39868, 4900),\n",
    " (42, 65535, 39868, 4900),\n",
    " (42, 65535, 39868, 4900),\n",
    " (42, 65535, 39868, 4900),\n",
    " (42, 65535, 39868, 4900),\n",
    " (42, 65535, 39868, 4900),\n",
    " (42, 65535, 39868, 4900),\n",
    " (42, 65535, 39868, 4900),\n",
    " (0, 0, 0, 1500),\n",
    " (0, 0, 0, 1500),\n",
    " (0, 0, 0, 1500),\n",
    " (0, 0, 0, 1500),\n",
    " (0, 0, 0, 1500),\n",
    " (0, 0, 0, 1500),\n",
    " (42, 65535, 39868, 4900),\n",
    " (42, 65535, 39868, 4900),\n",
    " (0, 0, 0, 1500),\n",
    " (0, 0, 0, 1500),\n",
    " (42, 0, 59380, 4900),\n",
    " (0, 0, 0, 1500),\n",
    " (0, 0, 0, 1500),\n",
    " (0, 0, 0, 1500),\n",
    " (42, 65535, 39868, 4900),\n",
    " (42, 65535, 39868, 4900),\n",
    " (0, 0, 0, 1500),\n",
    " (0, 0, 0, 1500),\n",
    " (0, 0, 0, 1500),\n",
    " (42, 0, 59380, 4900),\n",
    " (0, 0, 0, 1500),\n",
    " (0, 0, 0, 1500),\n",
    " (42, 65535, 39868, 4900),\n",
    " (42, 65535, 39868, 4900),\n",
    " (0, 0, 0, 1500),\n",
    " (0, 0, 0, 1500),\n",
    " (42, 0, 59380, 4900),\n",
    " (0, 0, 0, 1500),\n",
    " (0, 0, 0, 1500),\n",
    " (0, 0, 0, 1500),\n",
    " (42, 65535, 39868, 4900),\n",
    " (42, 65535, 39868, 4900),\n",
    " (0, 0, 0, 1500),\n",
    " (0, 0, 0, 1500),\n",
    " (0, 0, 0, 1500),\n",
    " (0, 0, 0, 1500),\n",
    " (0, 0, 0, 1500),\n",
    " (0, 0, 0, 1500),\n",
    " (42, 65535, 39868, 4900),\n",
    " (42, 65535, 39868, 4900),\n",
    " (42, 65535, 39868, 4900),\n",
    " (42, 65535, 39868, 4900),\n",
    " (42, 65535, 39868, 4900),\n",
    " (42, 65535, 39868, 4900),\n",
    " (42, 65535, 39868, 4900),\n",
    " (42, 65535, 39868, 4900),\n",
    " (42, 65535, 39868, 4900),\n",
    " (0, 0, 0, 1500),\n",
    " (0, 0, 0, 1500),\n",
    " (0, 0, 0, 1500),\n",
    " (0, 0, 0, 1500),\n",
    " (0, 0, 0, 1500),\n",
    " (0, 0, 0, 1500),\n",
    " (0, 0, 0, 1500),\n",
    " (0, 0, 0, 1500)]"
   ]
  },
  {
   "cell_type": "code",
   "execution_count": 145,
   "metadata": {},
   "outputs": [],
   "source": [
    "# testing out displaying icon to a single tile\n",
    "T2.set_tile_colors(1,youtube)"
   ]
  },
  {
   "cell_type": "code",
   "execution_count": 152,
   "metadata": {},
   "outputs": [],
   "source": [
    "# Python3 program to rotate a matrix by 90 degrees \n",
    "# https://www.geeksforgeeks.org/inplace-rotate-square-matrix-by-90-degrees/\n",
    "  \n",
    "# An Inplace function to rotate  \n",
    "# N x N matrix by 90 degrees in \n",
    "# anti-clockwise direction \n",
    "def rotateMatrixWiddershins(mat, N = 8): \n",
    "      \n",
    "    # Consider all squares one by one \n",
    "    for x in range(0, int(N / 2)): \n",
    "          \n",
    "        # Consider elements in group    \n",
    "        # of 4 in current square \n",
    "        for y in range(x, N-x-1): \n",
    "              \n",
    "            # store current cell in temp variable \n",
    "            temp = mat[x][y] \n",
    "  \n",
    "            # move values from right to top \n",
    "            mat[x][y] = mat[y][N-1-x] \n",
    "  \n",
    "            # move values from bottom to right \n",
    "            mat[y][N-1-x] = mat[N-1-x][N-1-y] \n",
    "  \n",
    "            # move values from left to bottom \n",
    "            mat[N-1-x][N-1-y] = mat[N-1-y][x] \n",
    "  \n",
    "            # assign temp to left \n",
    "            mat[N-1-y][x] = temp "
   ]
  },
  {
   "cell_type": "code",
   "execution_count": 153,
   "metadata": {},
   "outputs": [],
   "source": [
    "rotateMatrixWiddershins(youtube_matrix)"
   ]
  },
  {
   "cell_type": "code",
   "execution_count": 154,
   "metadata": {},
   "outputs": [],
   "source": [
    "youtube_matrix_rotate"
   ]
  },
  {
   "cell_type": "code",
   "execution_count": 19,
   "metadata": {},
   "outputs": [],
   "source": [
    "from operator import add\n",
    "from functools import reduce"
   ]
  },
  {
   "cell_type": "code",
   "execution_count": 156,
   "metadata": {},
   "outputs": [],
   "source": [
    "youtube2 = reduce(add ,youtube_matrix)"
   ]
  },
  {
   "cell_type": "code",
   "execution_count": 157,
   "metadata": {},
   "outputs": [
    {
     "data": {
      "text/plain": [
       "64"
      ]
     },
     "execution_count": 157,
     "metadata": {},
     "output_type": "execute_result"
    }
   ],
   "source": [
    "len(youtube2)"
   ]
  },
  {
   "cell_type": "code",
   "execution_count": 158,
   "metadata": {},
   "outputs": [],
   "source": [
    "T2.set_tile_colors(1,youtube2)"
   ]
  },
  {
   "cell_type": "code",
   "execution_count": 67,
   "metadata": {},
   "outputs": [],
   "source": [
    "#LR.get_tile_colors(1)"
   ]
  },
  {
   "cell_type": "code",
   "execution_count": 15,
   "metadata": {},
   "outputs": [],
   "source": [
    "def rotate_image(tilechain, tile_num,num_rotate=1):\n",
    "    '''\n",
    "    param tilechain LIFXLAN Tilechain object which represent the specific tile your working with\n",
    "    param tile_num Int which represents the tile you're working with\n",
    "    param: tile_color_matrix 8x8 2D array which represents the colors map of a single LIFX tile\n",
    "    param: num_rotate number of 1/2 turns that the matrix should be rotated\n",
    "    \n",
    "    '''\n",
    "    #get current source tile matrix from tilechain\n",
    "    tile_color = tilechain.get_tile_colors(tile_num)\n",
    "    #convert to 2D 8x8 matrix\n",
    "    temp_matrix = list(chunks(tile_color[0],8))\n",
    "    #rotate in place\n",
    "    for i in range(num_rotate):\n",
    "        rotateMatrixWiddershins(temp_matrix)\n",
    "    #convert back to 1D list\n",
    "    target_tile_color = reduce(add,temp_matrix)\n",
    "    #write back to source tile\n",
    "    tilechain.set_tile_colors(tile_num,target_tile_color)"
   ]
  },
  {
   "cell_type": "code",
   "execution_count": 161,
   "metadata": {},
   "outputs": [],
   "source": [
    "for i in range(4):\n",
    "    rotate_image(T2,1, 4)\n",
    "    sleep(1)"
   ]
  },
  {
   "cell_type": "code",
   "execution_count": 87,
   "metadata": {},
   "outputs": [],
   "source": [
    "from time import sleep"
   ]
  },
  {
   "cell_type": "code",
   "execution_count": 162,
   "metadata": {},
   "outputs": [],
   "source": [
    "tile_color = T2.get_tile_colors(1)"
   ]
  },
  {
   "cell_type": "code",
   "execution_count": 163,
   "metadata": {},
   "outputs": [
    {
     "data": {
      "text/plain": [
       "1"
      ]
     },
     "execution_count": 163,
     "metadata": {},
     "output_type": "execute_result"
    }
   ],
   "source": [
    "len(tile_color)"
   ]
  },
  {
   "cell_type": "code",
   "execution_count": 164,
   "metadata": {},
   "outputs": [],
   "source": [
    "temp_matrix = list(chunks(tile_color[0],8))"
   ]
  },
  {
   "cell_type": "code",
   "execution_count": 165,
   "metadata": {},
   "outputs": [],
   "source": [
    "rotateMatrixWiddershins(temp_matrix)"
   ]
  },
  {
   "cell_type": "code",
   "execution_count": 166,
   "metadata": {},
   "outputs": [],
   "source": [
    "target_tile_color = reduce(add,temp_matrix)"
   ]
  },
  {
   "cell_type": "code",
   "execution_count": 167,
   "metadata": {},
   "outputs": [],
   "source": [
    "LR.set_tile_colors(1,target_tile_color)"
   ]
  },
  {
   "cell_type": "code",
   "execution_count": 16,
   "metadata": {},
   "outputs": [],
   "source": [
    "#https://stackoverflow.com/questions/19878280/efficient-way-to-shift-2d-matrices-in-both-directions\n",
    "DIRS = NONE, UP, DOWN, LEFT, RIGHT = 'unshifted', 'up', 'down', 'left', 'right'\n",
    "\n",
    "def shift(matrix, direction, dist):\n",
    "    \"\"\" Shift a 2D matrix in-place the given distance of rows or columns in the\n",
    "        specified (NONE, UP, DOWN, LEFT, RIGHT) direction and return it.\n",
    "    \"\"\"\n",
    "    if dist and direction in (UP, DOWN, LEFT, RIGHT):\n",
    "        n = 0\n",
    "        if direction in (UP, DOWN):\n",
    "            n = (dist % len(matrix) if direction == UP else -(dist % len(matrix)))\n",
    "        elif direction in (LEFT, RIGHT):\n",
    "            n = (dist % len(matrix[0]) if direction == LEFT else -(dist % len(matrix[0])))\n",
    "            matrix[:] = list(zip(*matrix))  # Transpose rows and columns for shifting.\n",
    "\n",
    "        h = matrix[:n]\n",
    "        del matrix[:n]\n",
    "        matrix.extend(h)\n",
    "\n",
    "        if direction in (LEFT, RIGHT):\n",
    "            matrix[:] = map(list, zip(*matrix))  # Undo previous transposition.\n",
    "\n",
    "    return matrix"
   ]
  },
  {
   "cell_type": "code",
   "execution_count": 17,
   "metadata": {},
   "outputs": [],
   "source": [
    "\n",
    "def shift_image(tilechain, tile_num,direction, dist):\n",
    "    '''\n",
    "    param tilechain LIFXLAN Tilechain object which represent the specific tile your working with\n",
    "    param tile_num Int which represents the tile you're working with\n",
    "    param: tile_color_matrix 8x8 2D array which represents the colors map of a single LIFX tile\n",
    "    param: num_rotate number of 1/2 turns that the matrix should be rotated\n",
    "    \n",
    "    '''\n",
    "    #get current source tile matrix from tilechain\n",
    "    tile_color = tilechain.get_tile_colors(tile_num)\n",
    "    #convert to 2D 8x8 matrix\n",
    "    temp_matrix = list(chunks(tile_color[0],8))\n",
    "    #shift i\n",
    "    temp_matrix=shift(temp_matrix,direction, dist)\n",
    "    #convert back to 1D list\n",
    "    target_tile_color = reduce(add,temp_matrix)\n",
    "    #write back to source tile\n",
    "    tilechain.set_tile_colors(tile_num,target_tile_color)"
   ]
  },
  {
   "cell_type": "code",
   "execution_count": 138,
   "metadata": {},
   "outputs": [],
   "source": [
    "for i in range(8):\n",
    "    rotate_image(T2,1, 1)\n",
    "    #sleep(.05)\n",
    "for i in range(16):\n",
    "    shift_image(T2,1, LEFT, 1)\n",
    "    sleep(.05)\n",
    "for i in range(16):\n",
    "    shift_image(T2,1, RIGHT, 1)\n",
    "    sleep(.05)\n",
    "for i in range(16):\n",
    "    shift_image(T2,1, UP, 1)\n",
    "    sleep(.05)\n",
    "for i in range(16):\n",
    "    shift_image(T2,1, DOWN, 1)\n",
    "    sleep(.05)"
   ]
  },
  {
   "cell_type": "code",
   "execution_count": 173,
   "metadata": {},
   "outputs": [],
   "source": [
    "for i in range(8):\n",
    "    rotate_image(T2,1, 1)\n",
    "    #sleep(.05)\n",
    "for i in range(16):\n",
    "    shift_image(T2,1, LEFT, 1)\n",
    "    sleep(.05)\n",
    "for i in range(16):\n",
    "    shift_image(T2,1, RIGHT, 1)\n",
    "    sleep(.05)\n",
    "for i in range(16):\n",
    "    shift_image(T2,1, UP, 1)\n",
    "    sleep(.05)\n",
    "for i in range(16):\n",
    "    shift_image(T2,1, DOWN, 1)\n",
    "    sleep(.05)"
   ]
  },
  {
   "cell_type": "code",
   "execution_count": 133,
   "metadata": {},
   "outputs": [
    {
     "name": "stdout",
     "output_type": "stream",
     "text": [
      "Help on built-in function sleep in module time:\n",
      "\n",
      "sleep(...)\n",
      "    sleep(seconds)\n",
      "    \n",
      "    Delay execution for a given number of seconds.  The argument may be\n",
      "    a floating point number for subsecond precision.\n",
      "\n"
     ]
    }
   ],
   "source": [
    "help(sleep)"
   ]
  },
  {
   "cell_type": "code",
   "execution_count": 172,
   "metadata": {},
   "outputs": [],
   "source": [
    "for i in range(16):\n",
    "    for j in range(3):\n",
    "            shift_image(T2,1, LEFT, 1)\n",
    "            sleep(.1)\n",
    "    shift_image(T2,1,RIGHT,1)\n",
    "    sleep(.1)"
   ]
  },
  {
   "cell_type": "markdown",
   "metadata": {},
   "source": [
    "# Multi Tile Operations Section\n",
    "\n",
    "Experimenting to take two tiles displaying the Youtube Logo and a Heart and attempting to merge their color maps together so that we can shift the entire image up/down/left/right as needed. "
   ]
  },
  {
   "cell_type": "code",
   "execution_count": 15,
   "metadata": {},
   "outputs": [],
   "source": [
    "from pylifxtiles.actions import *\n",
    "from pylifxtiles.alphanum import *\n",
    "from pylifxtiles.colors import *\n",
    "from pylifxtiles.actions import *\n",
    "from pylifxtiles.objects import *"
   ]
  },
  {
   "cell_type": "code",
   "execution_count": 27,
   "metadata": {},
   "outputs": [],
   "source": [
    "draw_youtube(T2,1)\n",
    "draw_heart(T2,2)\n",
    "#reset_tiles(T2)"
   ]
  },
  {
   "cell_type": "code",
   "execution_count": 28,
   "metadata": {},
   "outputs": [],
   "source": [
    "# Multi Tile operations\n",
    "# combine two tiles into a single list\n",
    "\n",
    "#turn 2 side-by-side tiles 64 map into 2 8x8 matrix\n",
    "\n",
    "#join the two matrices together append each element in matrix 2 to the same line in matrix one to create a 8x16 matrix\n",
    "#split the two matrices apart. split each line in half so that they turn back into two 8x8 matrices.\n",
    "#convert the 8x8 matrices back into a 64 element list color map\n",
    "#display the images back to the tile\n",
    "\n",
    "#next step\n",
    "#shift the 8x16 matrix left so that two tiles are able to wrap between the two tiles. \n"
   ]
  },
  {
   "cell_type": "code",
   "execution_count": 29,
   "metadata": {},
   "outputs": [],
   "source": [
    "my_colors = [0]*64"
   ]
  },
  {
   "cell_type": "code",
   "execution_count": 30,
   "metadata": {},
   "outputs": [
    {
     "data": {
      "text/plain": [
       "64"
      ]
     },
     "execution_count": 30,
     "metadata": {},
     "output_type": "execute_result"
    }
   ],
   "source": [
    "len(my_colors)"
   ]
  },
  {
   "cell_type": "code",
   "execution_count": 36,
   "metadata": {},
   "outputs": [],
   "source": [
    "#Playing adding two lists together\n",
    "tile1 = T2.get_tile_colors(1)[0]\n",
    "tile2 = T2.get_tile_colors(2)[0]"
   ]
  },
  {
   "cell_type": "code",
   "execution_count": 32,
   "metadata": {},
   "outputs": [],
   "source": [
    "tile1 = list(chunks(tile1,8))\n",
    "tile2 = list(chunks(tile2,8))"
   ]
  },
  {
   "cell_type": "code",
   "execution_count": 33,
   "metadata": {},
   "outputs": [],
   "source": [
    "combined_tiles = []\n",
    "for i in range(8):\n",
    "    new_row = tile1[i] + tile2[i]\n",
    "    combined_tiles.append(new_row)"
   ]
  },
  {
   "cell_type": "code",
   "execution_count": 34,
   "metadata": {},
   "outputs": [
    {
     "data": {
      "text/plain": [
       "16"
      ]
     },
     "execution_count": 34,
     "metadata": {},
     "output_type": "execute_result"
    }
   ],
   "source": [
    "len(combined_tiles[0])"
   ]
  },
  {
   "cell_type": "code",
   "execution_count": 23,
   "metadata": {},
   "outputs": [
    {
     "data": {
      "text/plain": [
       "8"
      ]
     },
     "execution_count": 23,
     "metadata": {},
     "output_type": "execute_result"
    }
   ],
   "source": [
    "len(combined_tiles)"
   ]
  },
  {
   "cell_type": "code",
   "execution_count": 24,
   "metadata": {},
   "outputs": [
    {
     "data": {
      "text/plain": [
       "[(0, 65535, 39868, 4900),\n",
       " (0, 65535, 39868, 4900),\n",
       " (0, 65535, 39868, 4900),\n",
       " (0, 65535, 39868, 4900),\n",
       " (0, 65535, 39868, 4900),\n",
       " (0, 65535, 39868, 4900),\n",
       " (0, 65535, 39868, 4900),\n",
       " (0, 65535, 39868, 4900),\n",
       " (0, 0, 0, 1500),\n",
       " (0, 0, 0, 1500),\n",
       " (0, 0, 0, 1500),\n",
       " (0, 0, 0, 1500),\n",
       " (0, 0, 0, 1500),\n",
       " (0, 0, 0, 1500),\n",
       " (0, 0, 0, 1500),\n",
       " (0, 0, 0, 1500)]"
      ]
     },
     "execution_count": 24,
     "metadata": {},
     "output_type": "execute_result"
    }
   ],
   "source": [
    "tile1[0]+tile2[0]"
   ]
  },
  {
   "cell_type": "code",
   "execution_count": 35,
   "metadata": {},
   "outputs": [],
   "source": [
    "#function to combine two tiles into a single 8x16 matrix. Used with matrix moving functions above.\n",
    "def combine_two_tiles(tile1, tile2):\n",
    "    tile1 = list(chunks(tile1,8))\n",
    "    tile2 = list(chunks(tile2,8))\n",
    "    combined_tiles = []\n",
    "    for i in range(8):\n",
    "        new_row = tile1[i] + tile2[i]\n",
    "        combined_tiles.append(new_row)\n",
    "    return combined_tiles"
   ]
  },
  {
   "cell_type": "code",
   "execution_count": 37,
   "metadata": {},
   "outputs": [],
   "source": [
    "combine2 = combine_two_tiles(tile1, tile2)"
   ]
  },
  {
   "cell_type": "code",
   "execution_count": 11,
   "metadata": {},
   "outputs": [],
   "source": [
    "def split_combined_matrix(combined_matrix):\n",
    "    tile1=[]\n",
    "    tile2=[]\n",
    "    for i in combined_matrix:\n",
    "        temp_list = list(chunks(i,8))\n",
    "        tile1.append(temp_list[0])\n",
    "        tile2.append(temp_list[1])\n",
    "    return [tile1, tile2]"
   ]
  },
  {
   "cell_type": "code",
   "execution_count": 269,
   "metadata": {},
   "outputs": [],
   "source": [
    "split_list = split_combined_matrix(combine2)"
   ]
  },
  {
   "cell_type": "code",
   "execution_count": 272,
   "metadata": {},
   "outputs": [
    {
     "data": {
      "text/plain": [
       "8"
      ]
     },
     "execution_count": 272,
     "metadata": {},
     "output_type": "execute_result"
    }
   ],
   "source": [
    "len(split_list[0][0])"
   ]
  },
  {
   "cell_type": "code",
   "execution_count": 277,
   "metadata": {},
   "outputs": [
    {
     "data": {
      "text/plain": [
       "True"
      ]
     },
     "execution_count": 277,
     "metadata": {},
     "output_type": "execute_result"
    }
   ],
   "source": [
    "#this should be equal to the 8x8 matrix of tile1\n",
    "split_list[0] == tile1"
   ]
  },
  {
   "cell_type": "code",
   "execution_count": 278,
   "metadata": {},
   "outputs": [
    {
     "data": {
      "text/plain": [
       "True"
      ]
     },
     "execution_count": 278,
     "metadata": {},
     "output_type": "execute_result"
    }
   ],
   "source": [
    "#this should be equal to the 8x8 matrix of tile2\n",
    "split_list[1] == tile2"
   ]
  },
  {
   "cell_type": "code",
   "execution_count": 10,
   "metadata": {},
   "outputs": [
    {
     "ename": "NameError",
     "evalue": "name 'LEFT' is not defined",
     "output_type": "error",
     "traceback": [
      "\u001b[0;31m---------------------------------------------------------------------------\u001b[0m",
      "\u001b[0;31mNameError\u001b[0m                                 Traceback (most recent call last)",
      "\u001b[0;32m<ipython-input-10-9ea7be685aec>\u001b[0m in \u001b[0;36m<module>\u001b[0;34m\u001b[0m\n\u001b[0;32m----> 1\u001b[0;31m \u001b[0mLEFT\u001b[0m\u001b[0;34m\u001b[0m\u001b[0;34m\u001b[0m\u001b[0m\n\u001b[0m",
      "\u001b[0;31mNameError\u001b[0m: name 'LEFT' is not defined"
     ]
    }
   ],
   "source": [
    "LEFT"
   ]
  },
  {
   "cell_type": "code",
   "execution_count": 9,
   "metadata": {},
   "outputs": [
    {
     "ename": "NameError",
     "evalue": "name 'tiles' is not defined",
     "output_type": "error",
     "traceback": [
      "\u001b[0;31m---------------------------------------------------------------------------\u001b[0m",
      "\u001b[0;31mNameError\u001b[0m                                 Traceback (most recent call last)",
      "\u001b[0;32m<ipython-input-9-b6cafe56db71>\u001b[0m in \u001b[0;36m<module>\u001b[0;34m\u001b[0m\n\u001b[1;32m      7\u001b[0m     \u001b[0;31m#tile2 = list(chunks(tile2,8))\u001b[0m\u001b[0;34m\u001b[0m\u001b[0;34m\u001b[0m\u001b[0;34m\u001b[0m\u001b[0m\n\u001b[1;32m      8\u001b[0m     \u001b[0;31m#step3 Combine into a single 8x16 matrix\u001b[0m\u001b[0;34m\u001b[0m\u001b[0;34m\u001b[0m\u001b[0;34m\u001b[0m\u001b[0m\n\u001b[0;32m----> 9\u001b[0;31m     \u001b[0mcombine2\u001b[0m \u001b[0;34m=\u001b[0m \u001b[0mtiles\u001b[0m\u001b[0;34m.\u001b[0m\u001b[0mcombine_two_tiles\u001b[0m\u001b[0;34m(\u001b[0m\u001b[0mtile1\u001b[0m\u001b[0;34m,\u001b[0m \u001b[0mtile2\u001b[0m\u001b[0;34m)\u001b[0m\u001b[0;34m\u001b[0m\u001b[0;34m\u001b[0m\u001b[0m\n\u001b[0m\u001b[1;32m     10\u001b[0m     \u001b[0;31m#step4 shift matrix to the left\u001b[0m\u001b[0;34m\u001b[0m\u001b[0;34m\u001b[0m\u001b[0;34m\u001b[0m\u001b[0m\n\u001b[1;32m     11\u001b[0m     \u001b[0mtemp_matrix\u001b[0m\u001b[0;34m=\u001b[0m\u001b[0mtiles\u001b[0m\u001b[0;34m.\u001b[0m\u001b[0m__shift\u001b[0m\u001b[0;34m(\u001b[0m\u001b[0mcombine2\u001b[0m\u001b[0;34m,\u001b[0m\u001b[0mtiles\u001b[0m\u001b[0;34m.\u001b[0m\u001b[0mLEFT\u001b[0m\u001b[0;34m,\u001b[0m \u001b[0;36m1\u001b[0m\u001b[0;34m)\u001b[0m\u001b[0;34m\u001b[0m\u001b[0;34m\u001b[0m\u001b[0m\n",
      "\u001b[0;31mNameError\u001b[0m: name 'tiles' is not defined"
     ]
    }
   ],
   "source": [
    "for i in range(4):\n",
    "    #step1 grab current state of both tiles\n",
    "    tile1 = T2.get_tile_colors(1)[0]\n",
    "    tile2 = T2.get_tile_colors(2)[0]\n",
    "    #step2 convert 1d 64 element list into 8x8 matrices\n",
    "    #tile1 = list(chunks(tile1,8))\n",
    "    #tile2 = list(chunks(tile2,8))\n",
    "    #step3 Combine into a single 8x16 matrix\n",
    "    combine2 = tiles.combine_two_tiles(tile1, tile2)\n",
    "    #step4 shift matrix to the left\n",
    "    temp_matrix=tiles.__shift(combine2,tiles.LEFT, 1)\n",
    "    temp_matrix=tiles.__shift(combine2,tiles.UP, 2)\n",
    "    temp_matrix=tiles.__shift(combine2,tiles.LEFT, 1)\n",
    "    #step5 split back into 2 8x8 matrices\n",
    "    split_list = tiles.split_combined_matrix(combine2)\n",
    "    #convert back to 1D list\n",
    "    target_tile_color1 = reduce(add,split_list[0])\n",
    "    target_tile_color2 = reduce(add,split_list[1])\n",
    "    #write back to source tile\n",
    "    T2.set_tile_colors(1,target_tile_color1, rapid=True)\n",
    "    T2.set_tile_colors(2,target_tile_color2, rapid=True)"
   ]
  },
  {
   "cell_type": "code",
   "execution_count": 38,
   "metadata": {},
   "outputs": [],
   "source": [
    "for i in range(16):\n",
    "    #step1 grab current state of both tiles\n",
    "    tile1 = T2.get_tile_colors(1)[0]\n",
    "    tile2 = T2.get_tile_colors(2)[0]\n",
    "    #step2 convert 1d 64 element list into 8x8 matrices\n",
    "    #tile1 = list(chunks(tile1,8))\n",
    "    #tile2 = list(chunks(tile2,8))\n",
    "    #step3 Combine into a single 8x16 matrix\n",
    "    combine2 = combine_two_tiles(tile1, tile2)\n",
    "    #step4 shift matrix to the left\n",
    "    temp_matrix=shift(combine2,LEFT, 1)\n",
    "    #step5 split back into 2 8x8 matrices\n",
    "    split_list = split_combined_matrix(combine2)\n",
    "    #convert back to 1D list\n",
    "    target_tile_color1 = reduce(add,split_list[0])\n",
    "    target_tile_color2 = reduce(add,split_list[1])\n",
    "    #write back to source tile\n",
    "    T2.set_tile_colors(1,target_tile_color1, rapid=True)\n",
    "    T2.set_tile_colors(2,target_tile_color2, rapid=True)"
   ]
  },
  {
   "cell_type": "code",
   "execution_count": 282,
   "metadata": {},
   "outputs": [
    {
     "ename": "IndexError",
     "evalue": "list index out of range",
     "output_type": "error",
     "traceback": [
      "\u001b[0;31m---------------------------------------------------------------------------\u001b[0m",
      "\u001b[0;31mIndexError\u001b[0m                                Traceback (most recent call last)",
      "\u001b[0;32m<ipython-input-282-c3caeb215088>\u001b[0m in \u001b[0;36m<module>\u001b[0;34m\u001b[0m\n\u001b[0;32m----> 1\u001b[0;31m \u001b[0mcombine2\u001b[0m \u001b[0;34m=\u001b[0m \u001b[0mcombine_two_tiles\u001b[0m\u001b[0;34m(\u001b[0m\u001b[0mtile1\u001b[0m\u001b[0;34m,\u001b[0m \u001b[0mtile2\u001b[0m\u001b[0;34m)\u001b[0m\u001b[0;34m\u001b[0m\u001b[0;34m\u001b[0m\u001b[0m\n\u001b[0m",
      "\u001b[0;32m<ipython-input-234-dc22b31f19a4>\u001b[0m in \u001b[0;36mcombine_two_tiles\u001b[0;34m(tile1, tile2)\u001b[0m\n\u001b[1;32m      4\u001b[0m     \u001b[0mcombined_tiles\u001b[0m \u001b[0;34m=\u001b[0m \u001b[0;34m[\u001b[0m\u001b[0;34m]\u001b[0m\u001b[0;34m\u001b[0m\u001b[0;34m\u001b[0m\u001b[0m\n\u001b[1;32m      5\u001b[0m     \u001b[0;32mfor\u001b[0m \u001b[0mi\u001b[0m \u001b[0;32min\u001b[0m \u001b[0mrange\u001b[0m\u001b[0;34m(\u001b[0m\u001b[0;36m8\u001b[0m\u001b[0;34m)\u001b[0m\u001b[0;34m:\u001b[0m\u001b[0;34m\u001b[0m\u001b[0;34m\u001b[0m\u001b[0m\n\u001b[0;32m----> 6\u001b[0;31m         \u001b[0mnew_row\u001b[0m \u001b[0;34m=\u001b[0m \u001b[0mtile1\u001b[0m\u001b[0;34m[\u001b[0m\u001b[0mi\u001b[0m\u001b[0;34m]\u001b[0m \u001b[0;34m+\u001b[0m \u001b[0mtile2\u001b[0m\u001b[0;34m[\u001b[0m\u001b[0mi\u001b[0m\u001b[0;34m]\u001b[0m\u001b[0;34m\u001b[0m\u001b[0;34m\u001b[0m\u001b[0m\n\u001b[0m\u001b[1;32m      7\u001b[0m         \u001b[0mcombined_tiles\u001b[0m\u001b[0;34m.\u001b[0m\u001b[0mappend\u001b[0m\u001b[0;34m(\u001b[0m\u001b[0mnew_row\u001b[0m\u001b[0;34m)\u001b[0m\u001b[0;34m\u001b[0m\u001b[0;34m\u001b[0m\u001b[0m\n\u001b[1;32m      8\u001b[0m     \u001b[0;32mreturn\u001b[0m \u001b[0mcombined_tiles\u001b[0m\u001b[0;34m\u001b[0m\u001b[0;34m\u001b[0m\u001b[0m\n",
      "\u001b[0;31mIndexError\u001b[0m: list index out of range"
     ]
    }
   ],
   "source": []
  },
  {
   "cell_type": "code",
   "execution_count": 2,
   "metadata": {},
   "outputs": [
    {
     "ename": "NameError",
     "evalue": "name 'reset_tiles' is not defined",
     "output_type": "error",
     "traceback": [
      "\u001b[0;31m---------------------------------------------------------------------------\u001b[0m",
      "\u001b[0;31mNameError\u001b[0m                                 Traceback (most recent call last)",
      "\u001b[0;32m<ipython-input-2-9621f16b2bd0>\u001b[0m in \u001b[0;36m<module>\u001b[0;34m\u001b[0m\n\u001b[0;32m----> 1\u001b[0;31m \u001b[0mreset_tiles\u001b[0m\u001b[0;34m(\u001b[0m\u001b[0mT2\u001b[0m\u001b[0;34m)\u001b[0m\u001b[0;34m\u001b[0m\u001b[0;34m\u001b[0m\u001b[0m\n\u001b[0m",
      "\u001b[0;31mNameError\u001b[0m: name 'reset_tiles' is not defined"
     ]
    }
   ],
   "source": [
    "reset_tiles(T2)"
   ]
  },
  {
   "cell_type": "markdown",
   "metadata": {},
   "source": [
    "# Single Run of all prelim functions needed for 2 tile manipulations"
   ]
  },
  {
   "cell_type": "code",
   "execution_count": 151,
   "metadata": {},
   "outputs": [],
   "source": [
    "#Function to convert 64 element list into 8x8 matrix \n",
    "#https://chrisalbon.com/python/data_wrangling/break_list_into_chunks_of_equal_size/\n",
    "from operator import add\n",
    "from functools import reduce\n",
    "\n",
    "\n",
    "def chunks(l, n=8):\n",
    "    # For item i in a range that is a length of l,\n",
    "    for i in range(0, len(l), n):\n",
    "        # Create an index range for l of n items:\n",
    "        yield l[i:i+n]\n",
    "\n",
    "        #https://stackoverflow.com/questions/19878280/efficient-way-to-shift-2d-matrices-in-both-directions\n",
    "DIRS = NONE, UP, DOWN, LEFT, RIGHT = 'unshifted', 'up', 'down', 'left', 'right'\n",
    "\n",
    "def __shift(matrix, direction, dist):\n",
    "    \"\"\" Shift a 2D matrix in-place the given distance of rows or columns in the\n",
    "        specified (NONE, UP, DOWN, LEFT, RIGHT) direction and return it.\n",
    "    \"\"\"\n",
    "    if dist and direction in (UP, DOWN, LEFT, RIGHT):\n",
    "        n = 0\n",
    "        if direction in (UP, DOWN):\n",
    "            n = (dist % len(matrix) if direction == UP else -(dist % len(matrix)))\n",
    "        elif direction in (LEFT, RIGHT):\n",
    "            n = (dist % len(matrix[0]) if direction == LEFT else -(dist % len(matrix[0])))\n",
    "            matrix[:] = list(zip(*matrix))  # Transpose rows and columns for shifting.\n",
    "\n",
    "        h = matrix[:n]\n",
    "        del matrix[:n]\n",
    "        matrix.extend(h)\n",
    "\n",
    "        if direction in (LEFT, RIGHT):\n",
    "            matrix[:] = map(list, zip(*matrix))  # Undo previous transposition.\n",
    "\n",
    "    return matrix\n",
    "\n",
    "def split_combined_matrix(combined_matrix):\n",
    "    tile1=[]\n",
    "    tile2=[]\n",
    "    for i in combined_matrix:\n",
    "        temp_list = list(chunks(i,8))\n",
    "        tile1.append(temp_list[0])\n",
    "        tile2.append(temp_list[1])\n",
    "    return [tile1, tile2]\n",
    "\n",
    "#function to combine two tiles into a single 8x16 matrix. Used with matrix moving functions above.\n",
    "def combine_two_tiles(tile1, tile2):\n",
    "    tile1 = list(chunks(tile1,8))\n",
    "    tile2 = list(chunks(tile2,8))\n",
    "    combined_tiles = []\n",
    "    for i in range(8):\n",
    "        new_row = tile1[i] + tile2[i]\n",
    "        combined_tiles.append(new_row)\n",
    "    return combined_tiles"
   ]
  },
  {
   "cell_type": "code",
   "execution_count": 95,
   "metadata": {},
   "outputs": [],
   "source": [
    "#Tested Code\n",
    "for i in range(8):\n",
    "    #step1 grab current state of both tiles\n",
    "    tile1 = T2.get_tile_colors(1)[0]\n",
    "    tile2 = T2.get_tile_colors(2)[0]\n",
    "    tile0 = T2.get_tile_colors(0)[0]\n",
    "    tile3 = T2.get_tile_colors(3)[0]\n",
    "    #tile1 = tile0\n",
    "    #tile2 = tile3\n",
    "    #step2 convert 1d 64 element list into 8x8 matrices\n",
    "    #tile1 = list(chunks(tile1,8))\n",
    "    #tile2 = list(chunks(tile2,8))\n",
    "    #step3 Combine into a single 8x16 matrix\n",
    "    combine2 = combine_two_tiles(tile1, tile2)\n",
    "    #step4 shift matrix to the left\n",
    "    temp_matrix=__shift(combine2,LEFT, 1)\n",
    "    #temp_matrix=shift(combine2,UP, 2)\n",
    "    #temp_matrix=shift(combine2,LEFT, 1)\n",
    "    #step5 split back into 2 8x8 matrices\n",
    "    split_list = split_combined_matrix(combine2)\n",
    "    #convert back to 1D list\n",
    "    target_tile_color1 = reduce(add,split_list[0])\n",
    "    target_tile_color2 = reduce(add,split_list[1])\n",
    "    #write back to source tile\n",
    "    T2.set_tile_colors(1,target_tile_color1, rapid=True)\n",
    "    T2.set_tile_colors(2,target_tile_color2, rapid=True)\n",
    "    \n",
    "\n"
   ]
  },
  {
   "cell_type": "code",
   "execution_count": 163,
   "metadata": {},
   "outputs": [
    {
     "name": "stdout",
     "output_type": "stream",
     "text": [
      "True\n"
     ]
    },
    {
     "data": {
      "text/plain": [
       "True"
      ]
     },
     "execution_count": 163,
     "metadata": {},
     "output_type": "execute_result"
    }
   ],
   "source": [
    "tile1 = T2.get_tile_colors(1)[0]\n",
    "tile2 = T2.get_tile_colors(2)[0]\n",
    "combined_tiles = combine_two_tiles(tile1, tile2)\n",
    "split_list = split_combined_matrix(combined_tiles)\n",
    "target_tile_color1 = reduce(add,split_list[0])\n",
    "target_tile_color2 = reduce(add,split_list[1])\n",
    "print (tile1 == target_tile_color1)\n",
    "tile2 == target_tile_color2"
   ]
  },
  {
   "cell_type": "code",
   "execution_count": 162,
   "metadata": {},
   "outputs": [],
   "source": [
    "'''def split_combined_matrix(combined_matrix):\n",
    "    for i in combined_matrix:\n",
    "        temp_list = list(chunks(i,8))\n",
    "        if len(temp_list) == 2:\n",
    "            tile1= [(temp_list[0])]\n",
    "            tile2= [(temp_list[0])]\n",
    "    return [tile1, tile2] #tile \n",
    "'''\n",
    "def split_combined_matrix(combined_matrix):\n",
    "    tile1=[]\n",
    "    tile2=[]\n",
    "    tile3=[]\n",
    "    tile4=[]\n",
    "    tile5=[]\n",
    "    for i in combined_matrix:\n",
    "        temp_list = list(chunks(i,8))\n",
    "        if len(temp_list) == 2:\n",
    "            tile1.append(temp_list[0])\n",
    "            tile2.append(temp_list[1])\n",
    "            tiles = [tile1, tile2]\n",
    "        if len(temp_list) == 3:\n",
    "            tile1.append(temp_list[0])\n",
    "            tile2.append(temp_list[1])\n",
    "            tile3.append(temp_list[2])\n",
    "            tiles =  [tile1, tile2, tile3]\n",
    "        if len(temp_list) == 4:\n",
    "            tile1.append(temp_list[0])\n",
    "            tile2.append(temp_list[1])\n",
    "            tile3.append(temp_list[2])\n",
    "            tile4.append(temp_list[3])\n",
    "            tiles =  [tile1, tile2, tile3, tile4]\n",
    "        if len(temp_list) == 5:\n",
    "            tile1.append(temp_list[0])\n",
    "            tile2.append(temp_list[1])\n",
    "            tile3.append(temp_list[2])\n",
    "            tile4.append(temp_list[3])\n",
    "            tile5.append(temp_list[4])\n",
    "            tiles == [tile1, tile2, tile3, tile4, tile5]\n",
    "    return tiles"
   ]
  },
  {
   "cell_type": "code",
   "execution_count": 155,
   "metadata": {},
   "outputs": [],
   "source": [
    "x = split_list = split_combined_matrix(combined_tiles)"
   ]
  },
  {
   "cell_type": "code",
   "execution_count": 156,
   "metadata": {},
   "outputs": [
    {
     "data": {
      "text/plain": [
       "[[[(0, 0, 0, 1500),\n",
       "   (0, 0, 0, 1500),\n",
       "   (0, 0, 0, 1500),\n",
       "   (0, 0, 0, 1500),\n",
       "   (0, 0, 0, 1500),\n",
       "   (0, 0, 0, 1500),\n",
       "   (0, 0, 0, 1500),\n",
       "   (0, 0, 0, 1500)]],\n",
       " [[(0, 0, 0, 1500),\n",
       "   (0, 0, 0, 1500),\n",
       "   (0, 0, 0, 1500),\n",
       "   (0, 0, 0, 1500),\n",
       "   (0, 0, 0, 1500),\n",
       "   (0, 0, 0, 1500),\n",
       "   (0, 0, 0, 1500),\n",
       "   (0, 0, 0, 1500)]]]"
      ]
     },
     "execution_count": 156,
     "metadata": {},
     "output_type": "execute_result"
    }
   ],
   "source": [
    "x"
   ]
  },
  {
   "cell_type": "code",
   "execution_count": 164,
   "metadata": {},
   "outputs": [
    {
     "name": "stdout",
     "output_type": "stream",
     "text": [
      "True\n"
     ]
    },
    {
     "data": {
      "text/plain": [
       "True"
      ]
     },
     "execution_count": 164,
     "metadata": {},
     "output_type": "execute_result"
    }
   ],
   "source": [
    "\n",
    "\n",
    "split_list = split_combined_matrix(combined_tiles)\n",
    "target_tile_color1 = reduce(add,split_list[0])\n",
    "target_tile_color2 = reduce(add,split_list[1])\n",
    "print (tile1 == target_tile_color1)\n",
    "tile2 == target_tile_color2"
   ]
  },
  {
   "cell_type": "code",
   "execution_count": 119,
   "metadata": {},
   "outputs": [],
   "source": [
    "combined_tiles = combine_two_tiles(tile1, tile2)\n",
    "target_split_list = [[]]*2\n",
    "for j in combined_tiles:\n",
    "    temp_list = list(chunks(combined_tiles[0],8))\n",
    "    for i in range(len(temp_list)):\n",
    "        target_split_list[i].append(temp_list.pop(0))"
   ]
  },
  {
   "cell_type": "code",
   "execution_count": 144,
   "metadata": {},
   "outputs": [
    {
     "ename": "TypeError",
     "evalue": "object of type 'int' has no len()",
     "output_type": "error",
     "traceback": [
      "\u001b[0;31m---------------------------------------------------------------------------\u001b[0m",
      "\u001b[0;31mTypeError\u001b[0m                                 Traceback (most recent call last)",
      "\u001b[0;32m<ipython-input-144-0f6e0b0e37a9>\u001b[0m in \u001b[0;36m<module>\u001b[0;34m\u001b[0m\n\u001b[0;32m----> 1\u001b[0;31m \u001b[0mtemp_list\u001b[0m \u001b[0;34m=\u001b[0m \u001b[0mlist\u001b[0m\u001b[0;34m(\u001b[0m\u001b[0mchunks\u001b[0m\u001b[0;34m(\u001b[0m\u001b[0mi\u001b[0m\u001b[0;34m,\u001b[0m\u001b[0;36m8\u001b[0m\u001b[0;34m)\u001b[0m\u001b[0;34m)\u001b[0m\u001b[0;34m\u001b[0m\u001b[0;34m\u001b[0m\u001b[0m\n\u001b[0m",
      "\u001b[0;32m<ipython-input-94-a79523f5342b>\u001b[0m in \u001b[0;36mchunks\u001b[0;34m(l, n)\u001b[0m\n\u001b[1;32m      7\u001b[0m \u001b[0;32mdef\u001b[0m \u001b[0mchunks\u001b[0m\u001b[0;34m(\u001b[0m\u001b[0ml\u001b[0m\u001b[0;34m,\u001b[0m \u001b[0mn\u001b[0m\u001b[0;34m=\u001b[0m\u001b[0;36m8\u001b[0m\u001b[0;34m)\u001b[0m\u001b[0;34m:\u001b[0m\u001b[0;34m\u001b[0m\u001b[0;34m\u001b[0m\u001b[0m\n\u001b[1;32m      8\u001b[0m     \u001b[0;31m# For item i in a range that is a length of l,\u001b[0m\u001b[0;34m\u001b[0m\u001b[0;34m\u001b[0m\u001b[0;34m\u001b[0m\u001b[0m\n\u001b[0;32m----> 9\u001b[0;31m     \u001b[0;32mfor\u001b[0m \u001b[0mi\u001b[0m \u001b[0;32min\u001b[0m \u001b[0mrange\u001b[0m\u001b[0;34m(\u001b[0m\u001b[0;36m0\u001b[0m\u001b[0;34m,\u001b[0m \u001b[0mlen\u001b[0m\u001b[0;34m(\u001b[0m\u001b[0ml\u001b[0m\u001b[0;34m)\u001b[0m\u001b[0;34m,\u001b[0m \u001b[0mn\u001b[0m\u001b[0;34m)\u001b[0m\u001b[0;34m:\u001b[0m\u001b[0;34m\u001b[0m\u001b[0;34m\u001b[0m\u001b[0m\n\u001b[0m\u001b[1;32m     10\u001b[0m         \u001b[0;31m# Create an index range for l of n items:\u001b[0m\u001b[0;34m\u001b[0m\u001b[0;34m\u001b[0m\u001b[0;34m\u001b[0m\u001b[0m\n\u001b[1;32m     11\u001b[0m         \u001b[0;32myield\u001b[0m \u001b[0ml\u001b[0m\u001b[0;34m[\u001b[0m\u001b[0mi\u001b[0m\u001b[0;34m:\u001b[0m\u001b[0mi\u001b[0m\u001b[0;34m+\u001b[0m\u001b[0mn\u001b[0m\u001b[0;34m]\u001b[0m\u001b[0;34m\u001b[0m\u001b[0;34m\u001b[0m\u001b[0m\n",
      "\u001b[0;31mTypeError\u001b[0m: object of type 'int' has no len()"
     ]
    }
   ],
   "source": []
  },
  {
   "cell_type": "code",
   "execution_count": null,
   "metadata": {},
   "outputs": [],
   "source": []
  },
  {
   "cell_type": "code",
   "execution_count": 143,
   "metadata": {},
   "outputs": [
    {
     "ename": "IndexError",
     "evalue": "list index out of range",
     "output_type": "error",
     "traceback": [
      "\u001b[0;31m---------------------------------------------------------------------------\u001b[0m",
      "\u001b[0;31mIndexError\u001b[0m                                Traceback (most recent call last)",
      "\u001b[0;32m<ipython-input-143-339fbb2a2054>\u001b[0m in \u001b[0;36m<module>\u001b[0;34m\u001b[0m\n\u001b[1;32m      1\u001b[0m \u001b[0mlist1\u001b[0m \u001b[0;34m=\u001b[0m \u001b[0;34m[\u001b[0m\u001b[0;36m0\u001b[0m\u001b[0;34m,\u001b[0m \u001b[0;36m1\u001b[0m\u001b[0;34m,\u001b[0m \u001b[0;36m2\u001b[0m\u001b[0;34m,\u001b[0m \u001b[0;36m3\u001b[0m\u001b[0;34m,\u001b[0m \u001b[0;36m4\u001b[0m\u001b[0;34m,\u001b[0m \u001b[0;36m5\u001b[0m\u001b[0;34m,\u001b[0m \u001b[0;36m6\u001b[0m\u001b[0;34m,\u001b[0m \u001b[0;36m7\u001b[0m\u001b[0;34m]\u001b[0m\u001b[0;34m\u001b[0m\u001b[0;34m\u001b[0m\u001b[0m\n\u001b[1;32m      2\u001b[0m \u001b[0mlist2\u001b[0m \u001b[0;34m=\u001b[0m \u001b[0;34m[\u001b[0m\u001b[0;36m8\u001b[0m\u001b[0;34m,\u001b[0m \u001b[0;36m9\u001b[0m\u001b[0;34m,\u001b[0m \u001b[0;36m10\u001b[0m\u001b[0;34m,\u001b[0m \u001b[0;36m11\u001b[0m\u001b[0;34m,\u001b[0m \u001b[0;36m12\u001b[0m\u001b[0;34m,\u001b[0m \u001b[0;36m13\u001b[0m\u001b[0;34m,\u001b[0m \u001b[0;36m14\u001b[0m\u001b[0;34m,\u001b[0m \u001b[0;36m15\u001b[0m\u001b[0;34m]\u001b[0m\u001b[0;34m\u001b[0m\u001b[0;34m\u001b[0m\u001b[0m\n\u001b[0;32m----> 3\u001b[0;31m \u001b[0mcombined_list\u001b[0m \u001b[0;34m=\u001b[0m \u001b[0mcombine_two_tiles\u001b[0m\u001b[0;34m(\u001b[0m\u001b[0mlist1\u001b[0m\u001b[0;34m,\u001b[0m \u001b[0mlist2\u001b[0m\u001b[0;34m)\u001b[0m\u001b[0;34m\u001b[0m\u001b[0;34m\u001b[0m\u001b[0m\n\u001b[0m\u001b[1;32m      4\u001b[0m \u001b[0mmy_list\u001b[0m \u001b[0;34m=\u001b[0m \u001b[0;34m[\u001b[0m\u001b[0;36m0\u001b[0m\u001b[0;34m,\u001b[0m \u001b[0;36m1\u001b[0m\u001b[0;34m,\u001b[0m \u001b[0;36m2\u001b[0m\u001b[0;34m,\u001b[0m \u001b[0;36m3\u001b[0m\u001b[0;34m,\u001b[0m \u001b[0;36m4\u001b[0m\u001b[0;34m,\u001b[0m \u001b[0;36m5\u001b[0m\u001b[0;34m,\u001b[0m \u001b[0;36m6\u001b[0m\u001b[0;34m,\u001b[0m \u001b[0;36m7\u001b[0m\u001b[0;34m,\u001b[0m \u001b[0;36m8\u001b[0m\u001b[0;34m,\u001b[0m \u001b[0;36m9\u001b[0m\u001b[0;34m,\u001b[0m \u001b[0;36m10\u001b[0m\u001b[0;34m,\u001b[0m \u001b[0;36m11\u001b[0m\u001b[0;34m,\u001b[0m \u001b[0;36m12\u001b[0m\u001b[0;34m,\u001b[0m \u001b[0;36m13\u001b[0m\u001b[0;34m,\u001b[0m \u001b[0;36m14\u001b[0m\u001b[0;34m,\u001b[0m \u001b[0;36m15\u001b[0m\u001b[0;34m]\u001b[0m\u001b[0;34m\u001b[0m\u001b[0;34m\u001b[0m\u001b[0m\n\u001b[1;32m      5\u001b[0m \u001b[0;34m\u001b[0m\u001b[0m\n",
      "\u001b[0;32m<ipython-input-94-a79523f5342b>\u001b[0m in \u001b[0;36mcombine_two_tiles\u001b[0;34m(tile1, tile2)\u001b[0m\n\u001b[1;32m     50\u001b[0m     \u001b[0mcombined_tiles\u001b[0m \u001b[0;34m=\u001b[0m \u001b[0;34m[\u001b[0m\u001b[0;34m]\u001b[0m\u001b[0;34m\u001b[0m\u001b[0;34m\u001b[0m\u001b[0m\n\u001b[1;32m     51\u001b[0m     \u001b[0;32mfor\u001b[0m \u001b[0mi\u001b[0m \u001b[0;32min\u001b[0m \u001b[0mrange\u001b[0m\u001b[0;34m(\u001b[0m\u001b[0;36m8\u001b[0m\u001b[0;34m)\u001b[0m\u001b[0;34m:\u001b[0m\u001b[0;34m\u001b[0m\u001b[0;34m\u001b[0m\u001b[0m\n\u001b[0;32m---> 52\u001b[0;31m         \u001b[0mnew_row\u001b[0m \u001b[0;34m=\u001b[0m \u001b[0mtile1\u001b[0m\u001b[0;34m[\u001b[0m\u001b[0mi\u001b[0m\u001b[0;34m]\u001b[0m \u001b[0;34m+\u001b[0m \u001b[0mtile2\u001b[0m\u001b[0;34m[\u001b[0m\u001b[0mi\u001b[0m\u001b[0;34m]\u001b[0m\u001b[0;34m\u001b[0m\u001b[0;34m\u001b[0m\u001b[0m\n\u001b[0m\u001b[1;32m     53\u001b[0m         \u001b[0mcombined_tiles\u001b[0m\u001b[0;34m.\u001b[0m\u001b[0mappend\u001b[0m\u001b[0;34m(\u001b[0m\u001b[0mnew_row\u001b[0m\u001b[0;34m)\u001b[0m\u001b[0;34m\u001b[0m\u001b[0;34m\u001b[0m\u001b[0m\n\u001b[1;32m     54\u001b[0m     \u001b[0;32mreturn\u001b[0m \u001b[0mcombined_tiles\u001b[0m\u001b[0;34m\u001b[0m\u001b[0;34m\u001b[0m\u001b[0m\n",
      "\u001b[0;31mIndexError\u001b[0m: list index out of range"
     ]
    }
   ],
   "source": [
    "list1 = [0, 1, 2, 3, 4, 5, 6, 7]\n",
    "list2 = [8, 9, 10, 11, 12, 13, 14, 15]\n",
    "combined_list = combine_two_tiles(list1, list2)\n",
    "my_list = [0, 1, 2, 3, 4, 5, 6, 7, 8, 9, 10, 11, 12, 13, 14, 15]\n",
    "\n",
    "target_split_list = [[]]*2\n",
    "temp_list = list(chunks(my_list))\n",
    "\n",
    "    "
   ]
  },
  {
   "cell_type": "code",
   "execution_count": 139,
   "metadata": {},
   "outputs": [
    {
     "data": {
      "text/plain": [
       "[[0, 1, 2, 3, 4, 5, 6, 7], [8, 9, 10, 11, 12, 13, 14, 15]]"
      ]
     },
     "execution_count": 139,
     "metadata": {},
     "output_type": "execute_result"
    }
   ],
   "source": [
    "temp_list"
   ]
  },
  {
   "cell_type": "code",
   "execution_count": 120,
   "metadata": {},
   "outputs": [
    {
     "name": "stdout",
     "output_type": "stream",
     "text": [
      "False\n"
     ]
    },
    {
     "data": {
      "text/plain": [
       "False"
      ]
     },
     "execution_count": 120,
     "metadata": {},
     "output_type": "execute_result"
    }
   ],
   "source": [
    "target_tile_color1 = reduce(add,target_split_list[0])\n",
    "target_tile_color2 = reduce(add,target_split_list[1])\n",
    "print (tile1 == target_tile_color1)\n",
    "tile2 == target_tile_color2"
   ]
  },
  {
   "cell_type": "code",
   "execution_count": 23,
   "metadata": {},
   "outputs": [
    {
     "data": {
      "text/plain": [
       "[{0: None}, {1: None}, {2: None}, {3: None}, {4: None}]"
      ]
     },
     "execution_count": 23,
     "metadata": {},
     "output_type": "execute_result"
    }
   ],
   "source": [
    "x = []\n",
    "for i in range(5):\n",
    "    x.append({i: None})\n",
    "x"
   ]
  },
  {
   "cell_type": "code",
   "execution_count": 26,
   "metadata": {},
   "outputs": [
    {
     "name": "stdout",
     "output_type": "stream",
     "text": [
      "dict_keys([0])\n",
      "dict_keys([1])\n",
      "dict_keys([2])\n",
      "dict_keys([3])\n",
      "dict_keys([4])\n"
     ]
    }
   ],
   "source": [
    "for i in x:\n",
    "    print(i.keys())"
   ]
  },
  {
   "cell_type": "code",
   "execution_count": 27,
   "metadata": {},
   "outputs": [
    {
     "data": {
      "text/plain": [
       "<lifxlan.tilechain.TileChain at 0x10489a940>"
      ]
     },
     "execution_count": 27,
     "metadata": {},
     "output_type": "execute_result"
    }
   ],
   "source": [
    "T1"
   ]
  },
  {
   "cell_type": "code",
   "execution_count": 1,
   "metadata": {},
   "outputs": [],
   "source": [
    "from pylifxtiles import tiles"
   ]
  },
  {
   "cell_type": "code",
   "execution_count": 2,
   "metadata": {},
   "outputs": [],
   "source": [
    "from pylifxtiles import objects"
   ]
  },
  {
   "cell_type": "code",
   "execution_count": 4,
   "metadata": {},
   "outputs": [],
   "source": [
    "objects.draw_heart(T2,0)"
   ]
  },
  {
   "cell_type": "code",
   "execution_count": 7,
   "metadata": {},
   "outputs": [
    {
     "name": "stdout",
     "output_type": "stream",
     "text": [
      "Help on function rotate_single_tile_image in module pylifxtiles.tiles:\n",
      "\n",
      "rotate_single_tile_image(tilechain, tile_num, dir, num_rotate=1)\n",
      "    param tilechain LIFXLAN Tilechain object which represent the specific tile your working with\n",
      "    param tile_num Int which represents the tile you're working with\n",
      "    param: tile_color_matrix 8x8 2D array which represents the colors map of a single LIFX tile\n",
      "    param: num_rotate number of 1/2 turns that the matrix should be rotated\n",
      "\n"
     ]
    }
   ],
   "source": [
    "help(tiles.rotate_single_tile_image)"
   ]
  },
  {
   "cell_type": "code",
   "execution_count": 6,
   "metadata": {},
   "outputs": [],
   "source": [
    "tiles.rotate_single_tile_image(T2,0,'widder')"
   ]
  },
  {
   "cell_type": "code",
   "execution_count": null,
   "metadata": {},
   "outputs": [],
   "source": []
  },
  {
   "cell_type": "code",
   "execution_count": 7,
   "metadata": {},
   "outputs": [],
   "source": [
    "color_map = T2.get_tilechain_colors()"
   ]
  },
  {
   "cell_type": "code",
   "execution_count": 10,
   "metadata": {},
   "outputs": [
    {
     "data": {
      "text/plain": [
       "5"
      ]
     },
     "execution_count": 10,
     "metadata": {},
     "output_type": "execute_result"
    }
   ],
   "source": [
    "len(color_map)"
   ]
  },
  {
   "cell_type": "code",
   "execution_count": 11,
   "metadata": {},
   "outputs": [
    {
     "data": {
      "text/plain": [
       "[(0, 0, 0, 1500),\n",
       " (0, 0, 0, 1500),\n",
       " (0, 0, 0, 1500),\n",
       " (0, 0, 0, 1500),\n",
       " (0, 0, 0, 1500),\n",
       " (0, 0, 0, 1500),\n",
       " (0, 0, 0, 1500),\n",
       " (0, 0, 0, 1500),\n",
       " (0, 0, 0, 1500),\n",
       " (0, 0, 0, 1500),\n",
       " (0, 65535, 39868, 4900),\n",
       " (0, 0, 0, 1500),\n",
       " (0, 65535, 39868, 4900),\n",
       " (0, 0, 0, 1500),\n",
       " (0, 0, 0, 1500),\n",
       " (0, 0, 0, 1500),\n",
       " (0, 0, 0, 1500),\n",
       " (0, 65535, 39868, 4900),\n",
       " (0, 0, 0, 1500),\n",
       " (0, 65535, 39868, 4900),\n",
       " (0, 0, 0, 1500),\n",
       " (0, 65535, 39868, 4900),\n",
       " (0, 0, 0, 1500),\n",
       " (0, 0, 0, 1500),\n",
       " (0, 65535, 39868, 4900),\n",
       " (0, 0, 0, 1500),\n",
       " (0, 0, 0, 1500),\n",
       " (0, 0, 0, 1500),\n",
       " (0, 0, 0, 1500),\n",
       " (0, 0, 0, 1500),\n",
       " (0, 65535, 39868, 4900),\n",
       " (0, 0, 0, 1500),\n",
       " (0, 0, 0, 1500),\n",
       " (0, 65535, 39868, 4900),\n",
       " (0, 0, 0, 1500),\n",
       " (0, 0, 0, 1500),\n",
       " (0, 0, 0, 1500),\n",
       " (0, 65535, 39868, 4900),\n",
       " (0, 0, 0, 1500),\n",
       " (0, 0, 0, 1500),\n",
       " (0, 0, 0, 1500),\n",
       " (0, 0, 0, 1500),\n",
       " (0, 65535, 39868, 4900),\n",
       " (0, 0, 0, 1500),\n",
       " (0, 65535, 39868, 4900),\n",
       " (0, 0, 0, 1500),\n",
       " (0, 0, 0, 1500),\n",
       " (0, 0, 0, 1500),\n",
       " (0, 0, 0, 1500),\n",
       " (0, 0, 0, 1500),\n",
       " (0, 0, 0, 1500),\n",
       " (0, 65535, 39868, 4900),\n",
       " (0, 0, 0, 1500),\n",
       " (0, 0, 0, 1500),\n",
       " (0, 0, 0, 1500),\n",
       " (0, 0, 0, 1500),\n",
       " (0, 0, 0, 1500),\n",
       " (0, 0, 0, 1500),\n",
       " (0, 0, 0, 1500),\n",
       " (0, 0, 0, 1500),\n",
       " (0, 0, 0, 1500),\n",
       " (0, 0, 0, 1500),\n",
       " (0, 0, 0, 1500),\n",
       " (0, 0, 0, 1500)]"
      ]
     },
     "execution_count": 11,
     "metadata": {},
     "output_type": "execute_result"
    }
   ],
   "source": [
    "color_map[0]"
   ]
  },
  {
   "cell_type": "code",
   "execution_count": 12,
   "metadata": {},
   "outputs": [
    {
     "data": {
      "text/plain": [
       "[[(0, 0, 0, 1500),\n",
       "  (0, 0, 0, 1500),\n",
       "  (0, 0, 0, 1500),\n",
       "  (0, 0, 0, 1500),\n",
       "  (0, 0, 0, 1500),\n",
       "  (0, 0, 0, 1500),\n",
       "  (0, 0, 0, 1500),\n",
       "  (0, 0, 0, 1500),\n",
       "  (0, 0, 0, 1500),\n",
       "  (0, 0, 0, 1500),\n",
       "  (0, 65535, 39868, 4900),\n",
       "  (0, 0, 0, 1500),\n",
       "  (0, 65535, 39868, 4900),\n",
       "  (0, 0, 0, 1500),\n",
       "  (0, 0, 0, 1500),\n",
       "  (0, 0, 0, 1500),\n",
       "  (0, 0, 0, 1500),\n",
       "  (0, 65535, 39868, 4900),\n",
       "  (0, 0, 0, 1500),\n",
       "  (0, 65535, 39868, 4900),\n",
       "  (0, 0, 0, 1500),\n",
       "  (0, 65535, 39868, 4900),\n",
       "  (0, 0, 0, 1500),\n",
       "  (0, 0, 0, 1500),\n",
       "  (0, 65535, 39868, 4900),\n",
       "  (0, 0, 0, 1500),\n",
       "  (0, 0, 0, 1500),\n",
       "  (0, 0, 0, 1500),\n",
       "  (0, 0, 0, 1500),\n",
       "  (0, 0, 0, 1500),\n",
       "  (0, 65535, 39868, 4900),\n",
       "  (0, 0, 0, 1500),\n",
       "  (0, 0, 0, 1500),\n",
       "  (0, 65535, 39868, 4900),\n",
       "  (0, 0, 0, 1500),\n",
       "  (0, 0, 0, 1500),\n",
       "  (0, 0, 0, 1500),\n",
       "  (0, 65535, 39868, 4900),\n",
       "  (0, 0, 0, 1500),\n",
       "  (0, 0, 0, 1500),\n",
       "  (0, 0, 0, 1500),\n",
       "  (0, 0, 0, 1500),\n",
       "  (0, 65535, 39868, 4900),\n",
       "  (0, 0, 0, 1500),\n",
       "  (0, 65535, 39868, 4900),\n",
       "  (0, 0, 0, 1500),\n",
       "  (0, 0, 0, 1500),\n",
       "  (0, 0, 0, 1500),\n",
       "  (0, 0, 0, 1500),\n",
       "  (0, 0, 0, 1500),\n",
       "  (0, 0, 0, 1500),\n",
       "  (0, 65535, 39868, 4900),\n",
       "  (0, 0, 0, 1500),\n",
       "  (0, 0, 0, 1500),\n",
       "  (0, 0, 0, 1500),\n",
       "  (0, 0, 0, 1500),\n",
       "  (0, 0, 0, 1500),\n",
       "  (0, 0, 0, 1500),\n",
       "  (0, 0, 0, 1500),\n",
       "  (0, 0, 0, 1500),\n",
       "  (0, 0, 0, 1500),\n",
       "  (0, 0, 0, 1500),\n",
       "  (0, 0, 0, 1500),\n",
       "  (0, 0, 0, 1500)],\n",
       " [(0, 0, 0, 1500),\n",
       "  (0, 0, 0, 1500),\n",
       "  (0, 0, 0, 1500),\n",
       "  (0, 0, 0, 1500),\n",
       "  (0, 0, 0, 1500),\n",
       "  (0, 0, 0, 1500),\n",
       "  (0, 0, 0, 1500),\n",
       "  (0, 0, 0, 1500),\n",
       "  (0, 0, 0, 1500),\n",
       "  (0, 0, 0, 1500),\n",
       "  (0, 0, 0, 1500),\n",
       "  (0, 0, 0, 1500),\n",
       "  (0, 0, 0, 1500),\n",
       "  (0, 0, 0, 1500),\n",
       "  (0, 0, 0, 1500),\n",
       "  (0, 0, 0, 1500),\n",
       "  (0, 0, 0, 1500),\n",
       "  (0, 0, 0, 1500),\n",
       "  (0, 0, 0, 1500),\n",
       "  (0, 0, 0, 1500),\n",
       "  (0, 0, 0, 1500),\n",
       "  (0, 0, 0, 1500),\n",
       "  (0, 0, 0, 1500),\n",
       "  (0, 0, 0, 1500),\n",
       "  (0, 0, 0, 1500),\n",
       "  (0, 0, 0, 1500),\n",
       "  (0, 0, 0, 1500),\n",
       "  (0, 0, 0, 1500),\n",
       "  (0, 0, 0, 1500),\n",
       "  (0, 0, 0, 1500),\n",
       "  (0, 0, 0, 1500),\n",
       "  (0, 0, 0, 1500),\n",
       "  (0, 0, 0, 1500),\n",
       "  (0, 0, 0, 1500),\n",
       "  (0, 0, 0, 1500),\n",
       "  (0, 0, 0, 1500),\n",
       "  (0, 0, 0, 1500),\n",
       "  (0, 0, 0, 1500),\n",
       "  (0, 0, 0, 1500),\n",
       "  (0, 0, 0, 1500),\n",
       "  (0, 0, 0, 1500),\n",
       "  (0, 0, 0, 1500),\n",
       "  (0, 0, 0, 1500),\n",
       "  (0, 0, 0, 1500),\n",
       "  (0, 0, 0, 1500),\n",
       "  (0, 0, 0, 1500),\n",
       "  (0, 0, 0, 1500),\n",
       "  (12230, 60000, 13312, 4900),\n",
       "  (0, 0, 0, 1500),\n",
       "  (0, 0, 0, 1500),\n",
       "  (0, 0, 0, 1500),\n",
       "  (12230, 60000, 26313, 4900),\n",
       "  (0, 0, 0, 1500),\n",
       "  (0, 0, 0, 1500),\n",
       "  (0, 0, 0, 1500),\n",
       "  (0, 0, 0, 1500),\n",
       "  (0, 0, 0, 1500),\n",
       "  (0, 0, 0, 1500),\n",
       "  (0, 0, 0, 1500),\n",
       "  (0, 0, 0, 1500),\n",
       "  (0, 0, 0, 1500),\n",
       "  (0, 0, 0, 1500),\n",
       "  (0, 0, 0, 1500),\n",
       "  (0, 0, 0, 1500)],\n",
       " [(0, 0, 0, 1500),\n",
       "  (0, 0, 0, 1500),\n",
       "  (0, 0, 0, 1500),\n",
       "  (0, 0, 0, 1500),\n",
       "  (0, 0, 0, 1500),\n",
       "  (0, 0, 0, 1500),\n",
       "  (0, 0, 0, 1500),\n",
       "  (0, 0, 0, 1500),\n",
       "  (0, 0, 0, 1500),\n",
       "  (0, 0, 0, 1500),\n",
       "  (0, 0, 0, 1500),\n",
       "  (0, 0, 0, 1500),\n",
       "  (0, 0, 0, 1500),\n",
       "  (0, 0, 0, 1500),\n",
       "  (0, 0, 0, 1500),\n",
       "  (0, 0, 0, 1500),\n",
       "  (0, 0, 0, 1500),\n",
       "  (0, 0, 0, 1500),\n",
       "  (0, 0, 0, 1500),\n",
       "  (0, 0, 0, 1500),\n",
       "  (0, 0, 0, 1500),\n",
       "  (0, 0, 0, 1500),\n",
       "  (0, 0, 0, 1500),\n",
       "  (0, 0, 0, 1500),\n",
       "  (0, 0, 0, 1500),\n",
       "  (0, 0, 0, 1500),\n",
       "  (0, 0, 0, 1500),\n",
       "  (0, 0, 0, 1500),\n",
       "  (0, 0, 0, 1500),\n",
       "  (0, 0, 0, 1500),\n",
       "  (0, 0, 0, 1500),\n",
       "  (0, 0, 0, 1500),\n",
       "  (0, 0, 0, 1500),\n",
       "  (0, 0, 0, 1500),\n",
       "  (0, 0, 0, 1500),\n",
       "  (0, 0, 0, 1500),\n",
       "  (12230, 60000, 13312, 4900),\n",
       "  (0, 0, 0, 1500),\n",
       "  (0, 0, 0, 1500),\n",
       "  (0, 0, 0, 1500),\n",
       "  (0, 0, 0, 1500),\n",
       "  (0, 0, 0, 1500),\n",
       "  (0, 0, 0, 1500),\n",
       "  (0, 0, 0, 1500),\n",
       "  (0, 0, 0, 1500),\n",
       "  (0, 0, 0, 1500),\n",
       "  (0, 0, 0, 1500),\n",
       "  (0, 0, 0, 1500),\n",
       "  (0, 0, 0, 1500),\n",
       "  (0, 0, 0, 1500),\n",
       "  (0, 0, 0, 1500),\n",
       "  (0, 0, 0, 1500),\n",
       "  (0, 0, 0, 1500),\n",
       "  (0, 0, 0, 1500),\n",
       "  (0, 0, 0, 1500),\n",
       "  (0, 0, 0, 1500),\n",
       "  (0, 0, 0, 1500),\n",
       "  (0, 0, 0, 1500),\n",
       "  (0, 0, 0, 1500),\n",
       "  (0, 0, 0, 1500),\n",
       "  (0, 0, 0, 1500),\n",
       "  (12230, 60000, 13312, 4900),\n",
       "  (0, 0, 0, 1500),\n",
       "  (0, 0, 0, 1500)],\n",
       " [(0, 0, 0, 1500),\n",
       "  (0, 0, 0, 1500),\n",
       "  (0, 0, 0, 1500),\n",
       "  (0, 0, 0, 1500),\n",
       "  (0, 0, 0, 1500),\n",
       "  (0, 0, 0, 1500),\n",
       "  (0, 0, 0, 1500),\n",
       "  (0, 0, 0, 1500),\n",
       "  (0, 0, 0, 1500),\n",
       "  (0, 0, 0, 1500),\n",
       "  (0, 0, 0, 1500),\n",
       "  (0, 0, 0, 1500),\n",
       "  (0, 0, 0, 1500),\n",
       "  (0, 0, 0, 1500),\n",
       "  (0, 0, 0, 1500),\n",
       "  (0, 0, 0, 1500),\n",
       "  (0, 0, 0, 1500),\n",
       "  (0, 0, 0, 1500),\n",
       "  (0, 0, 0, 1500),\n",
       "  (0, 0, 0, 1500),\n",
       "  (0, 0, 0, 1500),\n",
       "  (0, 0, 0, 1500),\n",
       "  (0, 0, 0, 1500),\n",
       "  (0, 0, 0, 1500),\n",
       "  (0, 0, 0, 1500),\n",
       "  (0, 0, 0, 1500),\n",
       "  (0, 0, 0, 1500),\n",
       "  (0, 0, 0, 1500),\n",
       "  (0, 0, 0, 1500),\n",
       "  (0, 0, 0, 1500),\n",
       "  (0, 0, 0, 1500),\n",
       "  (0, 0, 0, 1500),\n",
       "  (0, 0, 0, 1500),\n",
       "  (0, 0, 0, 1500),\n",
       "  (0, 0, 0, 1500),\n",
       "  (0, 0, 0, 1500),\n",
       "  (0, 0, 0, 1500),\n",
       "  (0, 0, 0, 1500),\n",
       "  (0, 0, 0, 1500),\n",
       "  (0, 0, 0, 1500),\n",
       "  (0, 0, 0, 1500),\n",
       "  (0, 0, 0, 1500),\n",
       "  (0, 0, 0, 1500),\n",
       "  (0, 0, 0, 1500),\n",
       "  (0, 0, 0, 1500),\n",
       "  (0, 0, 0, 1500),\n",
       "  (0, 0, 0, 1500),\n",
       "  (0, 0, 0, 1500),\n",
       "  (12230, 60000, 13312, 4900),\n",
       "  (0, 0, 0, 1500),\n",
       "  (0, 0, 0, 1500),\n",
       "  (0, 0, 0, 1500),\n",
       "  (0, 0, 0, 1500),\n",
       "  (0, 0, 0, 1500),\n",
       "  (0, 0, 0, 1500),\n",
       "  (0, 0, 0, 1500),\n",
       "  (12230, 60000, 20009, 4900),\n",
       "  (0, 0, 0, 1500),\n",
       "  (0, 0, 0, 1500),\n",
       "  (0, 0, 0, 1500),\n",
       "  (0, 0, 0, 1500),\n",
       "  (0, 0, 0, 1500),\n",
       "  (0, 0, 0, 1500),\n",
       "  (0, 0, 0, 1500)],\n",
       " [(0, 0, 0, 1500),\n",
       "  (0, 0, 0, 1500),\n",
       "  (0, 0, 0, 1500),\n",
       "  (0, 0, 0, 1500),\n",
       "  (0, 0, 0, 1500),\n",
       "  (0, 0, 0, 1500),\n",
       "  (0, 0, 0, 1500),\n",
       "  (0, 0, 0, 1500),\n",
       "  (0, 0, 0, 1500),\n",
       "  (0, 0, 0, 1500),\n",
       "  (0, 0, 0, 1500),\n",
       "  (0, 0, 0, 1500),\n",
       "  (0, 0, 0, 1500),\n",
       "  (0, 0, 0, 1500),\n",
       "  (0, 0, 0, 1500),\n",
       "  (0, 0, 0, 1500),\n",
       "  (0, 0, 0, 1500),\n",
       "  (0, 0, 0, 1500),\n",
       "  (0, 0, 0, 1500),\n",
       "  (0, 0, 0, 1500),\n",
       "  (0, 0, 0, 1500),\n",
       "  (12230, 60000, 26313, 4900),\n",
       "  (12230, 60000, 13312, 4900),\n",
       "  (0, 0, 0, 1500),\n",
       "  (0, 0, 0, 1500),\n",
       "  (0, 0, 0, 1500),\n",
       "  (0, 0, 0, 1500),\n",
       "  (0, 0, 0, 1500),\n",
       "  (0, 0, 0, 1500),\n",
       "  (0, 0, 0, 1500),\n",
       "  (0, 0, 0, 1500),\n",
       "  (0, 0, 0, 1500),\n",
       "  (0, 0, 0, 1500),\n",
       "  (0, 0, 0, 1500),\n",
       "  (0, 0, 0, 1500),\n",
       "  (0, 0, 0, 1500),\n",
       "  (0, 0, 0, 1500),\n",
       "  (0, 0, 0, 1500),\n",
       "  (0, 0, 0, 1500),\n",
       "  (0, 0, 0, 1500),\n",
       "  (0, 0, 0, 1500),\n",
       "  (0, 0, 0, 1500),\n",
       "  (0, 0, 0, 1500),\n",
       "  (0, 0, 0, 1500),\n",
       "  (0, 0, 0, 1500),\n",
       "  (0, 0, 0, 1500),\n",
       "  (0, 0, 0, 1500),\n",
       "  (0, 0, 0, 1500),\n",
       "  (0, 0, 0, 1500),\n",
       "  (0, 0, 0, 1500),\n",
       "  (0, 0, 0, 1500),\n",
       "  (0, 0, 0, 1500),\n",
       "  (0, 0, 0, 1500),\n",
       "  (0, 0, 0, 1500),\n",
       "  (0, 0, 0, 1500),\n",
       "  (0, 0, 0, 1500),\n",
       "  (0, 0, 0, 1500),\n",
       "  (0, 0, 0, 1500),\n",
       "  (0, 0, 0, 1500),\n",
       "  (0, 0, 0, 1500),\n",
       "  (0, 0, 0, 1500),\n",
       "  (0, 0, 0, 1500),\n",
       "  (0, 0, 0, 1500),\n",
       "  (0, 0, 0, 1500)]]"
      ]
     },
     "execution_count": 12,
     "metadata": {},
     "output_type": "execute_result"
    }
   ],
   "source": [
    "color_map"
   ]
  },
  {
   "cell_type": "code",
   "execution_count": 29,
   "metadata": {},
   "outputs": [],
   "source": []
  }
 ],
 "metadata": {
  "kernelspec": {
   "display_name": "Python 3",
   "language": "python",
   "name": "python3"
  },
  "language_info": {
   "codemirror_mode": {
    "name": "ipython",
    "version": 3
   },
   "file_extension": ".py",
   "mimetype": "text/x-python",
   "name": "python",
   "nbconvert_exporter": "python",
   "pygments_lexer": "ipython3",
   "version": "3.7.3"
  }
 },
 "nbformat": 4,
 "nbformat_minor": 4
}
