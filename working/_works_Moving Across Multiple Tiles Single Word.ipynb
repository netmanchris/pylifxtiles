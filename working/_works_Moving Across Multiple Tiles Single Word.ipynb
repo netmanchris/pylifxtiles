{
 "cells": [
  {
   "cell_type": "markdown",
   "metadata": {},
   "source": [
    "# Project Description\n",
    "\n",
    "The goal of this project is to move images across muliple LIFX tiles in a single chain. \n",
    "\n"
   ]
  },
  {
   "cell_type": "code",
   "execution_count": 1,
   "metadata": {},
   "outputs": [],
   "source": []
  },
  {
   "cell_type": "code",
   "execution_count": 19,
   "metadata": {},
   "outputs": [
    {
     "name": "stdout",
     "output_type": "stream",
     "text": [
      "19\n",
      "T1\n",
      "Done.\n"
     ]
    }
   ],
   "source": [
    "#imports required\n",
    "from lifxlan import *\n",
    "from pylifxtiles.tiles import *\n",
    "from pylifxtiles import objects\n",
    "from pylifxtiles import actions\n",
    "from pylifxtiles.alphanum import alpha\n",
    "from pylifxtiles.colors import *\n",
    "#from pylifxtiles.tiles import __shift\n",
    "\n",
    "\n",
    "def main():\n",
    "    #change this value to be the name of the target tilechain\n",
    "    target_tilechain = 'T1'\n",
    "    lan = LifxLAN()\n",
    "    tilechain_lights = lan.get_tilechain_lights()\n",
    "    print (len(tilechain_lights))\n",
    "    if len(tilechain_lights) != 0:\n",
    "        for tile in tilechain_lights:\n",
    "            if tile.get_label()  ==  target_tilechain:\n",
    "                target_tilechain = tile\n",
    "    print(target_tilechain.label)\n",
    "    try:\n",
    "        my_word = 'Hello'\n",
    "        target_tile = T1\n",
    "        original_colors = actions.reset_tiles(target_tile)\n",
    "        target_color_map = original_colors\n",
    "        tile = 0\n",
    "        for letter in my_word.lower():\n",
    "                        #blank_tile= actions.blank_tile()\n",
    "                        #print (len(blank_tile))\n",
    "                        for led in alpha[letter]:\n",
    "                            target_color_map[tile][led] = (dblue, 65535, fourty, 4900)\n",
    "                        if tile <5:\n",
    "                            target_tile.set_tile_colors(tile, target_color_map[tile], rapid=True)\n",
    "                        tile += 1\n",
    "        while(True):\n",
    "            x = target_tile.get_tilechain_colors()\n",
    "            y = combine_multiple_tiles(x)\n",
    "            for i in range(120):\n",
    "                y = shift(y, UP, 1)\n",
    "                y = shift(y, LEFT, 1)\n",
    "                target_tile.set_tilechain_colors(split_combined_matrix(y), rapid=True)\n",
    "\n",
    "\n",
    "\n",
    "    except KeyboardInterrupt:\n",
    "        print(\"Done.\")\n",
    "\n",
    "    else:\n",
    "        print(\"No TileChain lights found.\")\n",
    "\n",
    "\n",
    "\n",
    "if __name__==\"__main__\":\n",
    "    main()"
   ]
  },
  {
   "cell_type": "code",
   "execution_count": 6,
   "metadata": {},
   "outputs": [],
   "source": []
  }
 ],
 "metadata": {
  "kernelspec": {
   "display_name": "Python 3",
   "language": "python",
   "name": "python3"
  },
  "language_info": {
   "codemirror_mode": {
    "name": "ipython",
    "version": 3
   },
   "file_extension": ".py",
   "mimetype": "text/x-python",
   "name": "python",
   "nbconvert_exporter": "python",
   "pygments_lexer": "ipython3",
   "version": "3.7.3"
  }
 },
 "nbformat": 4,
 "nbformat_minor": 4
}
